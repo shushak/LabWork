{
 "cells": [
  {
   "cell_type": "markdown",
   "id": "8cb22692",
   "metadata": {},
   "source": [
    "# Customer Analysis Case Study"
   ]
  },
  {
   "cell_type": "markdown",
   "id": "80320aab",
   "metadata": {},
   "source": [
    "<b> Importing libraries"
   ]
  },
  {
   "cell_type": "code",
   "execution_count": 72,
   "id": "5d1cd190",
   "metadata": {},
   "outputs": [],
   "source": [
    "# we need to import the libraries\n",
    "import numpy as np\n",
    "import pandas as pd\n",
    "import matplotlib.pyplot as plt\n",
    "from matplotlib.collections import LineCollection\n",
    "%matplotlib inline\n",
    "import seaborn as sns\n",
    "from sklearn.preprocessing import StandardScaler\n",
    "from sklearn.preprocessing import OneHotEncoder\n",
    "from sklearn.linear_model import LinearRegression\n",
    "from sklearn.model_selection import train_test_split\n",
    "from sklearn.preprocessing import PowerTransformer\n",
    "from sklearn.linear_model import LinearRegression\n",
    "from scipy.stats import boxcox\n",
    "from sklearn.model_selection import train_test_split\n",
    "from sklearn.metrics import r2_score\n",
    "from sklearn.metrics import mean_squared_error as mse\n",
    "from sklearn.metrics import mean_absolute_error as mae\n",
    "pd.options.display.max_rows = 50\n",
    "from ipywidgets import interactive\n",
    "import ipywidgets as widgets\n",
    "import statsmodels.api as sm\n",
    "import math"
   ]
  },
  {
   "cell_type": "markdown",
   "id": "dcc7229e",
   "metadata": {},
   "source": [
    "<b> Loading Data"
   ]
  },
  {
   "cell_type": "code",
   "execution_count": 5,
   "id": "9c2ea840",
   "metadata": {},
   "outputs": [],
   "source": [
    "ca_df=pd.read_csv(\"Data/customer_cs_response.csv\")"
   ]
  },
  {
   "cell_type": "code",
   "execution_count": 6,
   "id": "756839a7",
   "metadata": {},
   "outputs": [
    {
     "data": {
      "text/html": [
       "<div>\n",
       "<style scoped>\n",
       "    .dataframe tbody tr th:only-of-type {\n",
       "        vertical-align: middle;\n",
       "    }\n",
       "\n",
       "    .dataframe tbody tr th {\n",
       "        vertical-align: top;\n",
       "    }\n",
       "\n",
       "    .dataframe thead th {\n",
       "        text-align: right;\n",
       "    }\n",
       "</style>\n",
       "<table border=\"1\" class=\"dataframe\">\n",
       "  <thead>\n",
       "    <tr style=\"text-align: right;\">\n",
       "      <th></th>\n",
       "      <th>number</th>\n",
       "      <th>state</th>\n",
       "      <th>customer lifetime value</th>\n",
       "      <th>education</th>\n",
       "      <th>gender</th>\n",
       "      <th>income</th>\n",
       "      <th>monthly premium auto</th>\n",
       "      <th>number of open complaints</th>\n",
       "      <th>policy type</th>\n",
       "      <th>total claim amount</th>\n",
       "      <th>vehicle class</th>\n",
       "      <th>sales channel</th>\n",
       "      <th>response</th>\n",
       "    </tr>\n",
       "  </thead>\n",
       "  <tbody>\n",
       "    <tr>\n",
       "      <th>0</th>\n",
       "      <td>0</td>\n",
       "      <td>Arizona</td>\n",
       "      <td>4809.216960</td>\n",
       "      <td>College</td>\n",
       "      <td>M</td>\n",
       "      <td>48029</td>\n",
       "      <td>61</td>\n",
       "      <td>0.0</td>\n",
       "      <td>Corporate Auto</td>\n",
       "      <td>292.800000</td>\n",
       "      <td>Four-Door Car</td>\n",
       "      <td>Agent</td>\n",
       "      <td>No</td>\n",
       "    </tr>\n",
       "    <tr>\n",
       "      <th>1</th>\n",
       "      <td>1</td>\n",
       "      <td>California</td>\n",
       "      <td>2228.525238</td>\n",
       "      <td>College</td>\n",
       "      <td>F</td>\n",
       "      <td>0</td>\n",
       "      <td>64</td>\n",
       "      <td>0.0</td>\n",
       "      <td>Personal Auto</td>\n",
       "      <td>744.924331</td>\n",
       "      <td>Four-Door Car</td>\n",
       "      <td>Call Center</td>\n",
       "      <td>No</td>\n",
       "    </tr>\n",
       "    <tr>\n",
       "      <th>2</th>\n",
       "      <td>2</td>\n",
       "      <td>Washington</td>\n",
       "      <td>14947.917300</td>\n",
       "      <td>Bachelor</td>\n",
       "      <td>M</td>\n",
       "      <td>22139</td>\n",
       "      <td>100</td>\n",
       "      <td>0.0</td>\n",
       "      <td>Personal Auto</td>\n",
       "      <td>480.000000</td>\n",
       "      <td>SUV</td>\n",
       "      <td>Call Center</td>\n",
       "      <td>No</td>\n",
       "    </tr>\n",
       "    <tr>\n",
       "      <th>3</th>\n",
       "      <td>3</td>\n",
       "      <td>Oregon</td>\n",
       "      <td>22332.439460</td>\n",
       "      <td>College</td>\n",
       "      <td>M</td>\n",
       "      <td>49078</td>\n",
       "      <td>97</td>\n",
       "      <td>0.0</td>\n",
       "      <td>Corporate Auto</td>\n",
       "      <td>484.013411</td>\n",
       "      <td>Four-Door Car</td>\n",
       "      <td>Branch</td>\n",
       "      <td>Yes</td>\n",
       "    </tr>\n",
       "    <tr>\n",
       "      <th>4</th>\n",
       "      <td>4</td>\n",
       "      <td>Oregon</td>\n",
       "      <td>9025.067525</td>\n",
       "      <td>Bachelor</td>\n",
       "      <td>F</td>\n",
       "      <td>23675</td>\n",
       "      <td>117</td>\n",
       "      <td>NaN</td>\n",
       "      <td>Personal Auto</td>\n",
       "      <td>707.925645</td>\n",
       "      <td>Four-Door Car</td>\n",
       "      <td>Branch</td>\n",
       "      <td>No</td>\n",
       "    </tr>\n",
       "    <tr>\n",
       "      <th>...</th>\n",
       "      <td>...</td>\n",
       "      <td>...</td>\n",
       "      <td>...</td>\n",
       "      <td>...</td>\n",
       "      <td>...</td>\n",
       "      <td>...</td>\n",
       "      <td>...</td>\n",
       "      <td>...</td>\n",
       "      <td>...</td>\n",
       "      <td>...</td>\n",
       "      <td>...</td>\n",
       "      <td>...</td>\n",
       "      <td>...</td>\n",
       "    </tr>\n",
       "    <tr>\n",
       "      <th>10905</th>\n",
       "      <td>10905</td>\n",
       "      <td>Nevada</td>\n",
       "      <td>15563.369440</td>\n",
       "      <td>Bachelor</td>\n",
       "      <td>F</td>\n",
       "      <td>0</td>\n",
       "      <td>253</td>\n",
       "      <td>NaN</td>\n",
       "      <td>Personal Auto</td>\n",
       "      <td>1214.400000</td>\n",
       "      <td>Luxury Car</td>\n",
       "      <td>Web</td>\n",
       "      <td>No</td>\n",
       "    </tr>\n",
       "    <tr>\n",
       "      <th>10906</th>\n",
       "      <td>10906</td>\n",
       "      <td>Oregon</td>\n",
       "      <td>5259.444853</td>\n",
       "      <td>College</td>\n",
       "      <td>F</td>\n",
       "      <td>61146</td>\n",
       "      <td>65</td>\n",
       "      <td>0.0</td>\n",
       "      <td>Personal Auto</td>\n",
       "      <td>273.018929</td>\n",
       "      <td>Four-Door Car</td>\n",
       "      <td>Branch</td>\n",
       "      <td>No</td>\n",
       "    </tr>\n",
       "    <tr>\n",
       "      <th>10907</th>\n",
       "      <td>10907</td>\n",
       "      <td>Arizona</td>\n",
       "      <td>23893.304100</td>\n",
       "      <td>Bachelor</td>\n",
       "      <td>F</td>\n",
       "      <td>39837</td>\n",
       "      <td>201</td>\n",
       "      <td>0.0</td>\n",
       "      <td>Corporate Auto</td>\n",
       "      <td>381.306996</td>\n",
       "      <td>Luxury SUV</td>\n",
       "      <td>Web</td>\n",
       "      <td>No</td>\n",
       "    </tr>\n",
       "    <tr>\n",
       "      <th>10908</th>\n",
       "      <td>10908</td>\n",
       "      <td>California</td>\n",
       "      <td>11971.977650</td>\n",
       "      <td>College</td>\n",
       "      <td>F</td>\n",
       "      <td>64195</td>\n",
       "      <td>158</td>\n",
       "      <td>4.0</td>\n",
       "      <td>Personal Auto</td>\n",
       "      <td>618.288849</td>\n",
       "      <td>SUV</td>\n",
       "      <td>Branch</td>\n",
       "      <td>No</td>\n",
       "    </tr>\n",
       "    <tr>\n",
       "      <th>10909</th>\n",
       "      <td>10909</td>\n",
       "      <td>NaN</td>\n",
       "      <td>6857.519928</td>\n",
       "      <td>Bachelor</td>\n",
       "      <td>M</td>\n",
       "      <td>0</td>\n",
       "      <td>101</td>\n",
       "      <td>0.0</td>\n",
       "      <td>Personal Auto</td>\n",
       "      <td>1021.719397</td>\n",
       "      <td>SUV</td>\n",
       "      <td>Web</td>\n",
       "      <td>NaN</td>\n",
       "    </tr>\n",
       "  </tbody>\n",
       "</table>\n",
       "<p>10910 rows × 13 columns</p>\n",
       "</div>"
      ],
      "text/plain": [
       "       number       state  customer lifetime value education gender  income  \\\n",
       "0           0     Arizona              4809.216960   College      M   48029   \n",
       "1           1  California              2228.525238   College      F       0   \n",
       "2           2  Washington             14947.917300  Bachelor      M   22139   \n",
       "3           3      Oregon             22332.439460   College      M   49078   \n",
       "4           4      Oregon              9025.067525  Bachelor      F   23675   \n",
       "...       ...         ...                      ...       ...    ...     ...   \n",
       "10905   10905      Nevada             15563.369440  Bachelor      F       0   \n",
       "10906   10906      Oregon              5259.444853   College      F   61146   \n",
       "10907   10907     Arizona             23893.304100  Bachelor      F   39837   \n",
       "10908   10908  California             11971.977650   College      F   64195   \n",
       "10909   10909         NaN              6857.519928  Bachelor      M       0   \n",
       "\n",
       "       monthly premium auto  number of open complaints     policy type  \\\n",
       "0                        61                        0.0  Corporate Auto   \n",
       "1                        64                        0.0   Personal Auto   \n",
       "2                       100                        0.0   Personal Auto   \n",
       "3                        97                        0.0  Corporate Auto   \n",
       "4                       117                        NaN   Personal Auto   \n",
       "...                     ...                        ...             ...   \n",
       "10905                   253                        NaN   Personal Auto   \n",
       "10906                    65                        0.0   Personal Auto   \n",
       "10907                   201                        0.0  Corporate Auto   \n",
       "10908                   158                        4.0   Personal Auto   \n",
       "10909                   101                        0.0   Personal Auto   \n",
       "\n",
       "       total claim amount  vehicle class sales channel response  \n",
       "0              292.800000  Four-Door Car         Agent       No  \n",
       "1              744.924331  Four-Door Car   Call Center       No  \n",
       "2              480.000000            SUV   Call Center       No  \n",
       "3              484.013411  Four-Door Car        Branch      Yes  \n",
       "4              707.925645  Four-Door Car        Branch       No  \n",
       "...                   ...            ...           ...      ...  \n",
       "10905         1214.400000     Luxury Car           Web       No  \n",
       "10906          273.018929  Four-Door Car        Branch       No  \n",
       "10907          381.306996     Luxury SUV           Web       No  \n",
       "10908          618.288849            SUV        Branch       No  \n",
       "10909         1021.719397            SUV           Web      NaN  \n",
       "\n",
       "[10910 rows x 13 columns]"
      ]
     },
     "execution_count": 6,
     "metadata": {},
     "output_type": "execute_result"
    }
   ],
   "source": [
    "ca_df"
   ]
  },
  {
   "cell_type": "code",
   "execution_count": 7,
   "id": "8dc421a5",
   "metadata": {},
   "outputs": [],
   "source": [
    "def drop_columns(ca_df) : #delete the first ''number'' column that is redundant\n",
    "    ca_df.drop(columns=[\"number\"], inplace=True)\n",
    "    return ca_df"
   ]
  },
  {
   "cell_type": "code",
   "execution_count": 8,
   "id": "68a7fa7c",
   "metadata": {
    "scrolled": true
   },
   "outputs": [
    {
     "data": {
      "text/html": [
       "<div>\n",
       "<style scoped>\n",
       "    .dataframe tbody tr th:only-of-type {\n",
       "        vertical-align: middle;\n",
       "    }\n",
       "\n",
       "    .dataframe tbody tr th {\n",
       "        vertical-align: top;\n",
       "    }\n",
       "\n",
       "    .dataframe thead th {\n",
       "        text-align: right;\n",
       "    }\n",
       "</style>\n",
       "<table border=\"1\" class=\"dataframe\">\n",
       "  <thead>\n",
       "    <tr style=\"text-align: right;\">\n",
       "      <th></th>\n",
       "      <th>state</th>\n",
       "      <th>customer lifetime value</th>\n",
       "      <th>education</th>\n",
       "      <th>gender</th>\n",
       "      <th>income</th>\n",
       "      <th>monthly premium auto</th>\n",
       "      <th>number of open complaints</th>\n",
       "      <th>policy type</th>\n",
       "      <th>total claim amount</th>\n",
       "      <th>vehicle class</th>\n",
       "      <th>sales channel</th>\n",
       "      <th>response</th>\n",
       "    </tr>\n",
       "  </thead>\n",
       "  <tbody>\n",
       "    <tr>\n",
       "      <th>0</th>\n",
       "      <td>Arizona</td>\n",
       "      <td>4809.216960</td>\n",
       "      <td>College</td>\n",
       "      <td>M</td>\n",
       "      <td>48029</td>\n",
       "      <td>61</td>\n",
       "      <td>0.0</td>\n",
       "      <td>Corporate Auto</td>\n",
       "      <td>292.800000</td>\n",
       "      <td>Four-Door Car</td>\n",
       "      <td>Agent</td>\n",
       "      <td>No</td>\n",
       "    </tr>\n",
       "    <tr>\n",
       "      <th>1</th>\n",
       "      <td>California</td>\n",
       "      <td>2228.525238</td>\n",
       "      <td>College</td>\n",
       "      <td>F</td>\n",
       "      <td>0</td>\n",
       "      <td>64</td>\n",
       "      <td>0.0</td>\n",
       "      <td>Personal Auto</td>\n",
       "      <td>744.924331</td>\n",
       "      <td>Four-Door Car</td>\n",
       "      <td>Call Center</td>\n",
       "      <td>No</td>\n",
       "    </tr>\n",
       "    <tr>\n",
       "      <th>2</th>\n",
       "      <td>Washington</td>\n",
       "      <td>14947.917300</td>\n",
       "      <td>Bachelor</td>\n",
       "      <td>M</td>\n",
       "      <td>22139</td>\n",
       "      <td>100</td>\n",
       "      <td>0.0</td>\n",
       "      <td>Personal Auto</td>\n",
       "      <td>480.000000</td>\n",
       "      <td>SUV</td>\n",
       "      <td>Call Center</td>\n",
       "      <td>No</td>\n",
       "    </tr>\n",
       "    <tr>\n",
       "      <th>3</th>\n",
       "      <td>Oregon</td>\n",
       "      <td>22332.439460</td>\n",
       "      <td>College</td>\n",
       "      <td>M</td>\n",
       "      <td>49078</td>\n",
       "      <td>97</td>\n",
       "      <td>0.0</td>\n",
       "      <td>Corporate Auto</td>\n",
       "      <td>484.013411</td>\n",
       "      <td>Four-Door Car</td>\n",
       "      <td>Branch</td>\n",
       "      <td>Yes</td>\n",
       "    </tr>\n",
       "    <tr>\n",
       "      <th>4</th>\n",
       "      <td>Oregon</td>\n",
       "      <td>9025.067525</td>\n",
       "      <td>Bachelor</td>\n",
       "      <td>F</td>\n",
       "      <td>23675</td>\n",
       "      <td>117</td>\n",
       "      <td>NaN</td>\n",
       "      <td>Personal Auto</td>\n",
       "      <td>707.925645</td>\n",
       "      <td>Four-Door Car</td>\n",
       "      <td>Branch</td>\n",
       "      <td>No</td>\n",
       "    </tr>\n",
       "    <tr>\n",
       "      <th>...</th>\n",
       "      <td>...</td>\n",
       "      <td>...</td>\n",
       "      <td>...</td>\n",
       "      <td>...</td>\n",
       "      <td>...</td>\n",
       "      <td>...</td>\n",
       "      <td>...</td>\n",
       "      <td>...</td>\n",
       "      <td>...</td>\n",
       "      <td>...</td>\n",
       "      <td>...</td>\n",
       "      <td>...</td>\n",
       "    </tr>\n",
       "    <tr>\n",
       "      <th>10905</th>\n",
       "      <td>Nevada</td>\n",
       "      <td>15563.369440</td>\n",
       "      <td>Bachelor</td>\n",
       "      <td>F</td>\n",
       "      <td>0</td>\n",
       "      <td>253</td>\n",
       "      <td>NaN</td>\n",
       "      <td>Personal Auto</td>\n",
       "      <td>1214.400000</td>\n",
       "      <td>Luxury Car</td>\n",
       "      <td>Web</td>\n",
       "      <td>No</td>\n",
       "    </tr>\n",
       "    <tr>\n",
       "      <th>10906</th>\n",
       "      <td>Oregon</td>\n",
       "      <td>5259.444853</td>\n",
       "      <td>College</td>\n",
       "      <td>F</td>\n",
       "      <td>61146</td>\n",
       "      <td>65</td>\n",
       "      <td>0.0</td>\n",
       "      <td>Personal Auto</td>\n",
       "      <td>273.018929</td>\n",
       "      <td>Four-Door Car</td>\n",
       "      <td>Branch</td>\n",
       "      <td>No</td>\n",
       "    </tr>\n",
       "    <tr>\n",
       "      <th>10907</th>\n",
       "      <td>Arizona</td>\n",
       "      <td>23893.304100</td>\n",
       "      <td>Bachelor</td>\n",
       "      <td>F</td>\n",
       "      <td>39837</td>\n",
       "      <td>201</td>\n",
       "      <td>0.0</td>\n",
       "      <td>Corporate Auto</td>\n",
       "      <td>381.306996</td>\n",
       "      <td>Luxury SUV</td>\n",
       "      <td>Web</td>\n",
       "      <td>No</td>\n",
       "    </tr>\n",
       "    <tr>\n",
       "      <th>10908</th>\n",
       "      <td>California</td>\n",
       "      <td>11971.977650</td>\n",
       "      <td>College</td>\n",
       "      <td>F</td>\n",
       "      <td>64195</td>\n",
       "      <td>158</td>\n",
       "      <td>4.0</td>\n",
       "      <td>Personal Auto</td>\n",
       "      <td>618.288849</td>\n",
       "      <td>SUV</td>\n",
       "      <td>Branch</td>\n",
       "      <td>No</td>\n",
       "    </tr>\n",
       "    <tr>\n",
       "      <th>10909</th>\n",
       "      <td>NaN</td>\n",
       "      <td>6857.519928</td>\n",
       "      <td>Bachelor</td>\n",
       "      <td>M</td>\n",
       "      <td>0</td>\n",
       "      <td>101</td>\n",
       "      <td>0.0</td>\n",
       "      <td>Personal Auto</td>\n",
       "      <td>1021.719397</td>\n",
       "      <td>SUV</td>\n",
       "      <td>Web</td>\n",
       "      <td>NaN</td>\n",
       "    </tr>\n",
       "  </tbody>\n",
       "</table>\n",
       "<p>10910 rows × 12 columns</p>\n",
       "</div>"
      ],
      "text/plain": [
       "            state  customer lifetime value education gender  income  \\\n",
       "0         Arizona              4809.216960   College      M   48029   \n",
       "1      California              2228.525238   College      F       0   \n",
       "2      Washington             14947.917300  Bachelor      M   22139   \n",
       "3          Oregon             22332.439460   College      M   49078   \n",
       "4          Oregon              9025.067525  Bachelor      F   23675   \n",
       "...           ...                      ...       ...    ...     ...   \n",
       "10905      Nevada             15563.369440  Bachelor      F       0   \n",
       "10906      Oregon              5259.444853   College      F   61146   \n",
       "10907     Arizona             23893.304100  Bachelor      F   39837   \n",
       "10908  California             11971.977650   College      F   64195   \n",
       "10909         NaN              6857.519928  Bachelor      M       0   \n",
       "\n",
       "       monthly premium auto  number of open complaints     policy type  \\\n",
       "0                        61                        0.0  Corporate Auto   \n",
       "1                        64                        0.0   Personal Auto   \n",
       "2                       100                        0.0   Personal Auto   \n",
       "3                        97                        0.0  Corporate Auto   \n",
       "4                       117                        NaN   Personal Auto   \n",
       "...                     ...                        ...             ...   \n",
       "10905                   253                        NaN   Personal Auto   \n",
       "10906                    65                        0.0   Personal Auto   \n",
       "10907                   201                        0.0  Corporate Auto   \n",
       "10908                   158                        4.0   Personal Auto   \n",
       "10909                   101                        0.0   Personal Auto   \n",
       "\n",
       "       total claim amount  vehicle class sales channel response  \n",
       "0              292.800000  Four-Door Car         Agent       No  \n",
       "1              744.924331  Four-Door Car   Call Center       No  \n",
       "2              480.000000            SUV   Call Center       No  \n",
       "3              484.013411  Four-Door Car        Branch      Yes  \n",
       "4              707.925645  Four-Door Car        Branch       No  \n",
       "...                   ...            ...           ...      ...  \n",
       "10905         1214.400000     Luxury Car           Web       No  \n",
       "10906          273.018929  Four-Door Car        Branch       No  \n",
       "10907          381.306996     Luxury SUV           Web       No  \n",
       "10908          618.288849            SUV        Branch       No  \n",
       "10909         1021.719397            SUV           Web      NaN  \n",
       "\n",
       "[10910 rows x 12 columns]"
      ]
     },
     "execution_count": 8,
     "metadata": {},
     "output_type": "execute_result"
    }
   ],
   "source": [
    "drop_columns(ca_df)"
   ]
  },
  {
   "cell_type": "code",
   "execution_count": 9,
   "id": "d3e87663",
   "metadata": {
    "scrolled": true
   },
   "outputs": [
    {
     "data": {
      "text/html": [
       "<div>\n",
       "<style scoped>\n",
       "    .dataframe tbody tr th:only-of-type {\n",
       "        vertical-align: middle;\n",
       "    }\n",
       "\n",
       "    .dataframe tbody tr th {\n",
       "        vertical-align: top;\n",
       "    }\n",
       "\n",
       "    .dataframe thead th {\n",
       "        text-align: right;\n",
       "    }\n",
       "</style>\n",
       "<table border=\"1\" class=\"dataframe\">\n",
       "  <thead>\n",
       "    <tr style=\"text-align: right;\">\n",
       "      <th></th>\n",
       "      <th>state</th>\n",
       "      <th>customer lifetime value</th>\n",
       "      <th>education</th>\n",
       "      <th>gender</th>\n",
       "      <th>income</th>\n",
       "      <th>monthly premium auto</th>\n",
       "      <th>number of open complaints</th>\n",
       "      <th>policy type</th>\n",
       "      <th>total claim amount</th>\n",
       "      <th>vehicle class</th>\n",
       "      <th>sales channel</th>\n",
       "      <th>response</th>\n",
       "    </tr>\n",
       "  </thead>\n",
       "  <tbody>\n",
       "    <tr>\n",
       "      <th>0</th>\n",
       "      <td>Arizona</td>\n",
       "      <td>4809.216960</td>\n",
       "      <td>College</td>\n",
       "      <td>M</td>\n",
       "      <td>48029</td>\n",
       "      <td>61</td>\n",
       "      <td>0.0</td>\n",
       "      <td>Corporate Auto</td>\n",
       "      <td>292.800000</td>\n",
       "      <td>Four-Door Car</td>\n",
       "      <td>Agent</td>\n",
       "      <td>No</td>\n",
       "    </tr>\n",
       "    <tr>\n",
       "      <th>1</th>\n",
       "      <td>California</td>\n",
       "      <td>2228.525238</td>\n",
       "      <td>College</td>\n",
       "      <td>F</td>\n",
       "      <td>0</td>\n",
       "      <td>64</td>\n",
       "      <td>0.0</td>\n",
       "      <td>Personal Auto</td>\n",
       "      <td>744.924331</td>\n",
       "      <td>Four-Door Car</td>\n",
       "      <td>Call Center</td>\n",
       "      <td>No</td>\n",
       "    </tr>\n",
       "    <tr>\n",
       "      <th>2</th>\n",
       "      <td>Washington</td>\n",
       "      <td>14947.917300</td>\n",
       "      <td>Bachelor</td>\n",
       "      <td>M</td>\n",
       "      <td>22139</td>\n",
       "      <td>100</td>\n",
       "      <td>0.0</td>\n",
       "      <td>Personal Auto</td>\n",
       "      <td>480.000000</td>\n",
       "      <td>SUV</td>\n",
       "      <td>Call Center</td>\n",
       "      <td>No</td>\n",
       "    </tr>\n",
       "    <tr>\n",
       "      <th>3</th>\n",
       "      <td>Oregon</td>\n",
       "      <td>22332.439460</td>\n",
       "      <td>College</td>\n",
       "      <td>M</td>\n",
       "      <td>49078</td>\n",
       "      <td>97</td>\n",
       "      <td>0.0</td>\n",
       "      <td>Corporate Auto</td>\n",
       "      <td>484.013411</td>\n",
       "      <td>Four-Door Car</td>\n",
       "      <td>Branch</td>\n",
       "      <td>Yes</td>\n",
       "    </tr>\n",
       "    <tr>\n",
       "      <th>4</th>\n",
       "      <td>Oregon</td>\n",
       "      <td>9025.067525</td>\n",
       "      <td>Bachelor</td>\n",
       "      <td>F</td>\n",
       "      <td>23675</td>\n",
       "      <td>117</td>\n",
       "      <td>NaN</td>\n",
       "      <td>Personal Auto</td>\n",
       "      <td>707.925645</td>\n",
       "      <td>Four-Door Car</td>\n",
       "      <td>Branch</td>\n",
       "      <td>No</td>\n",
       "    </tr>\n",
       "    <tr>\n",
       "      <th>...</th>\n",
       "      <td>...</td>\n",
       "      <td>...</td>\n",
       "      <td>...</td>\n",
       "      <td>...</td>\n",
       "      <td>...</td>\n",
       "      <td>...</td>\n",
       "      <td>...</td>\n",
       "      <td>...</td>\n",
       "      <td>...</td>\n",
       "      <td>...</td>\n",
       "      <td>...</td>\n",
       "      <td>...</td>\n",
       "    </tr>\n",
       "    <tr>\n",
       "      <th>10905</th>\n",
       "      <td>Nevada</td>\n",
       "      <td>15563.369440</td>\n",
       "      <td>Bachelor</td>\n",
       "      <td>F</td>\n",
       "      <td>0</td>\n",
       "      <td>253</td>\n",
       "      <td>NaN</td>\n",
       "      <td>Personal Auto</td>\n",
       "      <td>1214.400000</td>\n",
       "      <td>Luxury Car</td>\n",
       "      <td>Web</td>\n",
       "      <td>No</td>\n",
       "    </tr>\n",
       "    <tr>\n",
       "      <th>10906</th>\n",
       "      <td>Oregon</td>\n",
       "      <td>5259.444853</td>\n",
       "      <td>College</td>\n",
       "      <td>F</td>\n",
       "      <td>61146</td>\n",
       "      <td>65</td>\n",
       "      <td>0.0</td>\n",
       "      <td>Personal Auto</td>\n",
       "      <td>273.018929</td>\n",
       "      <td>Four-Door Car</td>\n",
       "      <td>Branch</td>\n",
       "      <td>No</td>\n",
       "    </tr>\n",
       "    <tr>\n",
       "      <th>10907</th>\n",
       "      <td>Arizona</td>\n",
       "      <td>23893.304100</td>\n",
       "      <td>Bachelor</td>\n",
       "      <td>F</td>\n",
       "      <td>39837</td>\n",
       "      <td>201</td>\n",
       "      <td>0.0</td>\n",
       "      <td>Corporate Auto</td>\n",
       "      <td>381.306996</td>\n",
       "      <td>Luxury SUV</td>\n",
       "      <td>Web</td>\n",
       "      <td>No</td>\n",
       "    </tr>\n",
       "    <tr>\n",
       "      <th>10908</th>\n",
       "      <td>California</td>\n",
       "      <td>11971.977650</td>\n",
       "      <td>College</td>\n",
       "      <td>F</td>\n",
       "      <td>64195</td>\n",
       "      <td>158</td>\n",
       "      <td>4.0</td>\n",
       "      <td>Personal Auto</td>\n",
       "      <td>618.288849</td>\n",
       "      <td>SUV</td>\n",
       "      <td>Branch</td>\n",
       "      <td>No</td>\n",
       "    </tr>\n",
       "    <tr>\n",
       "      <th>10909</th>\n",
       "      <td>NaN</td>\n",
       "      <td>6857.519928</td>\n",
       "      <td>Bachelor</td>\n",
       "      <td>M</td>\n",
       "      <td>0</td>\n",
       "      <td>101</td>\n",
       "      <td>0.0</td>\n",
       "      <td>Personal Auto</td>\n",
       "      <td>1021.719397</td>\n",
       "      <td>SUV</td>\n",
       "      <td>Web</td>\n",
       "      <td>NaN</td>\n",
       "    </tr>\n",
       "  </tbody>\n",
       "</table>\n",
       "<p>10910 rows × 12 columns</p>\n",
       "</div>"
      ],
      "text/plain": [
       "            state  customer lifetime value education gender  income  \\\n",
       "0         Arizona              4809.216960   College      M   48029   \n",
       "1      California              2228.525238   College      F       0   \n",
       "2      Washington             14947.917300  Bachelor      M   22139   \n",
       "3          Oregon             22332.439460   College      M   49078   \n",
       "4          Oregon              9025.067525  Bachelor      F   23675   \n",
       "...           ...                      ...       ...    ...     ...   \n",
       "10905      Nevada             15563.369440  Bachelor      F       0   \n",
       "10906      Oregon              5259.444853   College      F   61146   \n",
       "10907     Arizona             23893.304100  Bachelor      F   39837   \n",
       "10908  California             11971.977650   College      F   64195   \n",
       "10909         NaN              6857.519928  Bachelor      M       0   \n",
       "\n",
       "       monthly premium auto  number of open complaints     policy type  \\\n",
       "0                        61                        0.0  Corporate Auto   \n",
       "1                        64                        0.0   Personal Auto   \n",
       "2                       100                        0.0   Personal Auto   \n",
       "3                        97                        0.0  Corporate Auto   \n",
       "4                       117                        NaN   Personal Auto   \n",
       "...                     ...                        ...             ...   \n",
       "10905                   253                        NaN   Personal Auto   \n",
       "10906                    65                        0.0   Personal Auto   \n",
       "10907                   201                        0.0  Corporate Auto   \n",
       "10908                   158                        4.0   Personal Auto   \n",
       "10909                   101                        0.0   Personal Auto   \n",
       "\n",
       "       total claim amount  vehicle class sales channel response  \n",
       "0              292.800000  Four-Door Car         Agent       No  \n",
       "1              744.924331  Four-Door Car   Call Center       No  \n",
       "2              480.000000            SUV   Call Center       No  \n",
       "3              484.013411  Four-Door Car        Branch      Yes  \n",
       "4              707.925645  Four-Door Car        Branch       No  \n",
       "...                   ...            ...           ...      ...  \n",
       "10905         1214.400000     Luxury Car           Web       No  \n",
       "10906          273.018929  Four-Door Car        Branch       No  \n",
       "10907          381.306996     Luxury SUV           Web       No  \n",
       "10908          618.288849            SUV        Branch       No  \n",
       "10909         1021.719397            SUV           Web      NaN  \n",
       "\n",
       "[10910 rows x 12 columns]"
      ]
     },
     "execution_count": 9,
     "metadata": {},
     "output_type": "execute_result"
    }
   ],
   "source": [
    "ca_df"
   ]
  },
  {
   "cell_type": "code",
   "execution_count": 10,
   "id": "5d98c24c",
   "metadata": {},
   "outputs": [
    {
     "data": {
      "text/html": [
       "<div>\n",
       "<style scoped>\n",
       "    .dataframe tbody tr th:only-of-type {\n",
       "        vertical-align: middle;\n",
       "    }\n",
       "\n",
       "    .dataframe tbody tr th {\n",
       "        vertical-align: top;\n",
       "    }\n",
       "\n",
       "    .dataframe thead th {\n",
       "        text-align: right;\n",
       "    }\n",
       "</style>\n",
       "<table border=\"1\" class=\"dataframe\">\n",
       "  <thead>\n",
       "    <tr style=\"text-align: right;\">\n",
       "      <th></th>\n",
       "      <th>state</th>\n",
       "      <th>customer lifetime value</th>\n",
       "      <th>education</th>\n",
       "      <th>gender</th>\n",
       "      <th>income</th>\n",
       "      <th>monthly premium auto</th>\n",
       "      <th>number of open complaints</th>\n",
       "      <th>policy type</th>\n",
       "      <th>total claim amount</th>\n",
       "      <th>vehicle class</th>\n",
       "      <th>sales channel</th>\n",
       "      <th>response</th>\n",
       "    </tr>\n",
       "  </thead>\n",
       "  <tbody>\n",
       "    <tr>\n",
       "      <th>0</th>\n",
       "      <td>Arizona</td>\n",
       "      <td>4809.216960</td>\n",
       "      <td>College</td>\n",
       "      <td>M</td>\n",
       "      <td>48029</td>\n",
       "      <td>61</td>\n",
       "      <td>0.0</td>\n",
       "      <td>Corporate Auto</td>\n",
       "      <td>292.800000</td>\n",
       "      <td>Four-Door Car</td>\n",
       "      <td>Agent</td>\n",
       "      <td>No</td>\n",
       "    </tr>\n",
       "    <tr>\n",
       "      <th>1</th>\n",
       "      <td>California</td>\n",
       "      <td>2228.525238</td>\n",
       "      <td>College</td>\n",
       "      <td>F</td>\n",
       "      <td>0</td>\n",
       "      <td>64</td>\n",
       "      <td>0.0</td>\n",
       "      <td>Personal Auto</td>\n",
       "      <td>744.924331</td>\n",
       "      <td>Four-Door Car</td>\n",
       "      <td>Call Center</td>\n",
       "      <td>No</td>\n",
       "    </tr>\n",
       "    <tr>\n",
       "      <th>2</th>\n",
       "      <td>Washington</td>\n",
       "      <td>14947.917300</td>\n",
       "      <td>Bachelor</td>\n",
       "      <td>M</td>\n",
       "      <td>22139</td>\n",
       "      <td>100</td>\n",
       "      <td>0.0</td>\n",
       "      <td>Personal Auto</td>\n",
       "      <td>480.000000</td>\n",
       "      <td>SUV</td>\n",
       "      <td>Call Center</td>\n",
       "      <td>No</td>\n",
       "    </tr>\n",
       "    <tr>\n",
       "      <th>3</th>\n",
       "      <td>Oregon</td>\n",
       "      <td>22332.439460</td>\n",
       "      <td>College</td>\n",
       "      <td>M</td>\n",
       "      <td>49078</td>\n",
       "      <td>97</td>\n",
       "      <td>0.0</td>\n",
       "      <td>Corporate Auto</td>\n",
       "      <td>484.013411</td>\n",
       "      <td>Four-Door Car</td>\n",
       "      <td>Branch</td>\n",
       "      <td>Yes</td>\n",
       "    </tr>\n",
       "    <tr>\n",
       "      <th>4</th>\n",
       "      <td>Oregon</td>\n",
       "      <td>9025.067525</td>\n",
       "      <td>Bachelor</td>\n",
       "      <td>F</td>\n",
       "      <td>23675</td>\n",
       "      <td>117</td>\n",
       "      <td>NaN</td>\n",
       "      <td>Personal Auto</td>\n",
       "      <td>707.925645</td>\n",
       "      <td>Four-Door Car</td>\n",
       "      <td>Branch</td>\n",
       "      <td>No</td>\n",
       "    </tr>\n",
       "    <tr>\n",
       "      <th>...</th>\n",
       "      <td>...</td>\n",
       "      <td>...</td>\n",
       "      <td>...</td>\n",
       "      <td>...</td>\n",
       "      <td>...</td>\n",
       "      <td>...</td>\n",
       "      <td>...</td>\n",
       "      <td>...</td>\n",
       "      <td>...</td>\n",
       "      <td>...</td>\n",
       "      <td>...</td>\n",
       "      <td>...</td>\n",
       "    </tr>\n",
       "    <tr>\n",
       "      <th>10905</th>\n",
       "      <td>Nevada</td>\n",
       "      <td>15563.369440</td>\n",
       "      <td>Bachelor</td>\n",
       "      <td>F</td>\n",
       "      <td>0</td>\n",
       "      <td>253</td>\n",
       "      <td>NaN</td>\n",
       "      <td>Personal Auto</td>\n",
       "      <td>1214.400000</td>\n",
       "      <td>Luxury Car</td>\n",
       "      <td>Web</td>\n",
       "      <td>No</td>\n",
       "    </tr>\n",
       "    <tr>\n",
       "      <th>10906</th>\n",
       "      <td>Oregon</td>\n",
       "      <td>5259.444853</td>\n",
       "      <td>College</td>\n",
       "      <td>F</td>\n",
       "      <td>61146</td>\n",
       "      <td>65</td>\n",
       "      <td>0.0</td>\n",
       "      <td>Personal Auto</td>\n",
       "      <td>273.018929</td>\n",
       "      <td>Four-Door Car</td>\n",
       "      <td>Branch</td>\n",
       "      <td>No</td>\n",
       "    </tr>\n",
       "    <tr>\n",
       "      <th>10907</th>\n",
       "      <td>Arizona</td>\n",
       "      <td>23893.304100</td>\n",
       "      <td>Bachelor</td>\n",
       "      <td>F</td>\n",
       "      <td>39837</td>\n",
       "      <td>201</td>\n",
       "      <td>0.0</td>\n",
       "      <td>Corporate Auto</td>\n",
       "      <td>381.306996</td>\n",
       "      <td>Luxury SUV</td>\n",
       "      <td>Web</td>\n",
       "      <td>No</td>\n",
       "    </tr>\n",
       "    <tr>\n",
       "      <th>10908</th>\n",
       "      <td>California</td>\n",
       "      <td>11971.977650</td>\n",
       "      <td>College</td>\n",
       "      <td>F</td>\n",
       "      <td>64195</td>\n",
       "      <td>158</td>\n",
       "      <td>4.0</td>\n",
       "      <td>Personal Auto</td>\n",
       "      <td>618.288849</td>\n",
       "      <td>SUV</td>\n",
       "      <td>Branch</td>\n",
       "      <td>No</td>\n",
       "    </tr>\n",
       "    <tr>\n",
       "      <th>10909</th>\n",
       "      <td>NaN</td>\n",
       "      <td>6857.519928</td>\n",
       "      <td>Bachelor</td>\n",
       "      <td>M</td>\n",
       "      <td>0</td>\n",
       "      <td>101</td>\n",
       "      <td>0.0</td>\n",
       "      <td>Personal Auto</td>\n",
       "      <td>1021.719397</td>\n",
       "      <td>SUV</td>\n",
       "      <td>Web</td>\n",
       "      <td>NaN</td>\n",
       "    </tr>\n",
       "  </tbody>\n",
       "</table>\n",
       "<p>10910 rows × 12 columns</p>\n",
       "</div>"
      ],
      "text/plain": [
       "            state  customer lifetime value education gender  income  \\\n",
       "0         Arizona              4809.216960   College      M   48029   \n",
       "1      California              2228.525238   College      F       0   \n",
       "2      Washington             14947.917300  Bachelor      M   22139   \n",
       "3          Oregon             22332.439460   College      M   49078   \n",
       "4          Oregon              9025.067525  Bachelor      F   23675   \n",
       "...           ...                      ...       ...    ...     ...   \n",
       "10905      Nevada             15563.369440  Bachelor      F       0   \n",
       "10906      Oregon              5259.444853   College      F   61146   \n",
       "10907     Arizona             23893.304100  Bachelor      F   39837   \n",
       "10908  California             11971.977650   College      F   64195   \n",
       "10909         NaN              6857.519928  Bachelor      M       0   \n",
       "\n",
       "       monthly premium auto  number of open complaints     policy type  \\\n",
       "0                        61                        0.0  Corporate Auto   \n",
       "1                        64                        0.0   Personal Auto   \n",
       "2                       100                        0.0   Personal Auto   \n",
       "3                        97                        0.0  Corporate Auto   \n",
       "4                       117                        NaN   Personal Auto   \n",
       "...                     ...                        ...             ...   \n",
       "10905                   253                        NaN   Personal Auto   \n",
       "10906                    65                        0.0   Personal Auto   \n",
       "10907                   201                        0.0  Corporate Auto   \n",
       "10908                   158                        4.0   Personal Auto   \n",
       "10909                   101                        0.0   Personal Auto   \n",
       "\n",
       "       total claim amount  vehicle class sales channel response  \n",
       "0              292.800000  Four-Door Car         Agent       No  \n",
       "1              744.924331  Four-Door Car   Call Center       No  \n",
       "2              480.000000            SUV   Call Center       No  \n",
       "3              484.013411  Four-Door Car        Branch      Yes  \n",
       "4              707.925645  Four-Door Car        Branch       No  \n",
       "...                   ...            ...           ...      ...  \n",
       "10905         1214.400000     Luxury Car           Web       No  \n",
       "10906          273.018929  Four-Door Car        Branch       No  \n",
       "10907          381.306996     Luxury SUV           Web       No  \n",
       "10908          618.288849            SUV        Branch       No  \n",
       "10909         1021.719397            SUV           Web      NaN  \n",
       "\n",
       "[10910 rows x 12 columns]"
      ]
     },
     "execution_count": 10,
     "metadata": {},
     "output_type": "execute_result"
    }
   ],
   "source": [
    "ca_df"
   ]
  },
  {
   "cell_type": "code",
   "execution_count": 11,
   "id": "7a09462c",
   "metadata": {
    "scrolled": false
   },
   "outputs": [
    {
     "data": {
      "text/plain": [
       "state                         object\n",
       "customer lifetime value      float64\n",
       "education                     object\n",
       "gender                        object\n",
       "income                         int64\n",
       "monthly premium auto           int64\n",
       "number of open complaints    float64\n",
       "policy type                   object\n",
       "total claim amount           float64\n",
       "vehicle class                 object\n",
       "sales channel                 object\n",
       "response                      object\n",
       "dtype: object"
      ]
     },
     "execution_count": 11,
     "metadata": {},
     "output_type": "execute_result"
    }
   ],
   "source": [
    "ca_df.dtypes #checking the data types"
   ]
  },
  {
   "cell_type": "code",
   "execution_count": 12,
   "id": "aefc3ce1",
   "metadata": {},
   "outputs": [
    {
     "data": {
      "text/html": [
       "<div>\n",
       "<style scoped>\n",
       "    .dataframe tbody tr th:only-of-type {\n",
       "        vertical-align: middle;\n",
       "    }\n",
       "\n",
       "    .dataframe tbody tr th {\n",
       "        vertical-align: top;\n",
       "    }\n",
       "\n",
       "    .dataframe thead th {\n",
       "        text-align: right;\n",
       "    }\n",
       "</style>\n",
       "<table border=\"1\" class=\"dataframe\">\n",
       "  <thead>\n",
       "    <tr style=\"text-align: right;\">\n",
       "      <th></th>\n",
       "      <th>state</th>\n",
       "      <th>customer lifetime value</th>\n",
       "      <th>education</th>\n",
       "      <th>gender</th>\n",
       "      <th>income</th>\n",
       "      <th>monthly premium auto</th>\n",
       "      <th>number of open complaints</th>\n",
       "      <th>policy type</th>\n",
       "      <th>total claim amount</th>\n",
       "      <th>vehicle class</th>\n",
       "      <th>sales channel</th>\n",
       "      <th>response</th>\n",
       "    </tr>\n",
       "  </thead>\n",
       "  <tbody>\n",
       "    <tr>\n",
       "      <th>0</th>\n",
       "      <td>Arizona</td>\n",
       "      <td>4809.216960</td>\n",
       "      <td>College</td>\n",
       "      <td>M</td>\n",
       "      <td>48029</td>\n",
       "      <td>61</td>\n",
       "      <td>0.0</td>\n",
       "      <td>Corporate Auto</td>\n",
       "      <td>292.800000</td>\n",
       "      <td>Four-Door Car</td>\n",
       "      <td>Agent</td>\n",
       "      <td>No</td>\n",
       "    </tr>\n",
       "    <tr>\n",
       "      <th>1</th>\n",
       "      <td>California</td>\n",
       "      <td>2228.525238</td>\n",
       "      <td>College</td>\n",
       "      <td>F</td>\n",
       "      <td>0</td>\n",
       "      <td>64</td>\n",
       "      <td>0.0</td>\n",
       "      <td>Personal Auto</td>\n",
       "      <td>744.924331</td>\n",
       "      <td>Four-Door Car</td>\n",
       "      <td>Call Center</td>\n",
       "      <td>No</td>\n",
       "    </tr>\n",
       "    <tr>\n",
       "      <th>2</th>\n",
       "      <td>Washington</td>\n",
       "      <td>14947.917300</td>\n",
       "      <td>Bachelor</td>\n",
       "      <td>M</td>\n",
       "      <td>22139</td>\n",
       "      <td>100</td>\n",
       "      <td>0.0</td>\n",
       "      <td>Personal Auto</td>\n",
       "      <td>480.000000</td>\n",
       "      <td>SUV</td>\n",
       "      <td>Call Center</td>\n",
       "      <td>No</td>\n",
       "    </tr>\n",
       "    <tr>\n",
       "      <th>3</th>\n",
       "      <td>Oregon</td>\n",
       "      <td>22332.439460</td>\n",
       "      <td>College</td>\n",
       "      <td>M</td>\n",
       "      <td>49078</td>\n",
       "      <td>97</td>\n",
       "      <td>0.0</td>\n",
       "      <td>Corporate Auto</td>\n",
       "      <td>484.013411</td>\n",
       "      <td>Four-Door Car</td>\n",
       "      <td>Branch</td>\n",
       "      <td>Yes</td>\n",
       "    </tr>\n",
       "    <tr>\n",
       "      <th>4</th>\n",
       "      <td>Oregon</td>\n",
       "      <td>9025.067525</td>\n",
       "      <td>Bachelor</td>\n",
       "      <td>F</td>\n",
       "      <td>23675</td>\n",
       "      <td>117</td>\n",
       "      <td>NaN</td>\n",
       "      <td>Personal Auto</td>\n",
       "      <td>707.925645</td>\n",
       "      <td>Four-Door Car</td>\n",
       "      <td>Branch</td>\n",
       "      <td>No</td>\n",
       "    </tr>\n",
       "    <tr>\n",
       "      <th>...</th>\n",
       "      <td>...</td>\n",
       "      <td>...</td>\n",
       "      <td>...</td>\n",
       "      <td>...</td>\n",
       "      <td>...</td>\n",
       "      <td>...</td>\n",
       "      <td>...</td>\n",
       "      <td>...</td>\n",
       "      <td>...</td>\n",
       "      <td>...</td>\n",
       "      <td>...</td>\n",
       "      <td>...</td>\n",
       "    </tr>\n",
       "    <tr>\n",
       "      <th>10905</th>\n",
       "      <td>Nevada</td>\n",
       "      <td>15563.369440</td>\n",
       "      <td>Bachelor</td>\n",
       "      <td>F</td>\n",
       "      <td>0</td>\n",
       "      <td>253</td>\n",
       "      <td>NaN</td>\n",
       "      <td>Personal Auto</td>\n",
       "      <td>1214.400000</td>\n",
       "      <td>Luxury Car</td>\n",
       "      <td>Web</td>\n",
       "      <td>No</td>\n",
       "    </tr>\n",
       "    <tr>\n",
       "      <th>10906</th>\n",
       "      <td>Oregon</td>\n",
       "      <td>5259.444853</td>\n",
       "      <td>College</td>\n",
       "      <td>F</td>\n",
       "      <td>61146</td>\n",
       "      <td>65</td>\n",
       "      <td>0.0</td>\n",
       "      <td>Personal Auto</td>\n",
       "      <td>273.018929</td>\n",
       "      <td>Four-Door Car</td>\n",
       "      <td>Branch</td>\n",
       "      <td>No</td>\n",
       "    </tr>\n",
       "    <tr>\n",
       "      <th>10907</th>\n",
       "      <td>Arizona</td>\n",
       "      <td>23893.304100</td>\n",
       "      <td>Bachelor</td>\n",
       "      <td>F</td>\n",
       "      <td>39837</td>\n",
       "      <td>201</td>\n",
       "      <td>0.0</td>\n",
       "      <td>Corporate Auto</td>\n",
       "      <td>381.306996</td>\n",
       "      <td>Luxury SUV</td>\n",
       "      <td>Web</td>\n",
       "      <td>No</td>\n",
       "    </tr>\n",
       "    <tr>\n",
       "      <th>10908</th>\n",
       "      <td>California</td>\n",
       "      <td>11971.977650</td>\n",
       "      <td>College</td>\n",
       "      <td>F</td>\n",
       "      <td>64195</td>\n",
       "      <td>158</td>\n",
       "      <td>4.0</td>\n",
       "      <td>Personal Auto</td>\n",
       "      <td>618.288849</td>\n",
       "      <td>SUV</td>\n",
       "      <td>Branch</td>\n",
       "      <td>No</td>\n",
       "    </tr>\n",
       "    <tr>\n",
       "      <th>10909</th>\n",
       "      <td>NaN</td>\n",
       "      <td>6857.519928</td>\n",
       "      <td>Bachelor</td>\n",
       "      <td>M</td>\n",
       "      <td>0</td>\n",
       "      <td>101</td>\n",
       "      <td>0.0</td>\n",
       "      <td>Personal Auto</td>\n",
       "      <td>1021.719397</td>\n",
       "      <td>SUV</td>\n",
       "      <td>Web</td>\n",
       "      <td>NaN</td>\n",
       "    </tr>\n",
       "  </tbody>\n",
       "</table>\n",
       "<p>10910 rows × 12 columns</p>\n",
       "</div>"
      ],
      "text/plain": [
       "            state  customer lifetime value education gender  income  \\\n",
       "0         Arizona              4809.216960   College      M   48029   \n",
       "1      California              2228.525238   College      F       0   \n",
       "2      Washington             14947.917300  Bachelor      M   22139   \n",
       "3          Oregon             22332.439460   College      M   49078   \n",
       "4          Oregon              9025.067525  Bachelor      F   23675   \n",
       "...           ...                      ...       ...    ...     ...   \n",
       "10905      Nevada             15563.369440  Bachelor      F       0   \n",
       "10906      Oregon              5259.444853   College      F   61146   \n",
       "10907     Arizona             23893.304100  Bachelor      F   39837   \n",
       "10908  California             11971.977650   College      F   64195   \n",
       "10909         NaN              6857.519928  Bachelor      M       0   \n",
       "\n",
       "       monthly premium auto  number of open complaints     policy type  \\\n",
       "0                        61                        0.0  Corporate Auto   \n",
       "1                        64                        0.0   Personal Auto   \n",
       "2                       100                        0.0   Personal Auto   \n",
       "3                        97                        0.0  Corporate Auto   \n",
       "4                       117                        NaN   Personal Auto   \n",
       "...                     ...                        ...             ...   \n",
       "10905                   253                        NaN   Personal Auto   \n",
       "10906                    65                        0.0   Personal Auto   \n",
       "10907                   201                        0.0  Corporate Auto   \n",
       "10908                   158                        4.0   Personal Auto   \n",
       "10909                   101                        0.0   Personal Auto   \n",
       "\n",
       "       total claim amount  vehicle class sales channel response  \n",
       "0              292.800000  Four-Door Car         Agent       No  \n",
       "1              744.924331  Four-Door Car   Call Center       No  \n",
       "2              480.000000            SUV   Call Center       No  \n",
       "3              484.013411  Four-Door Car        Branch      Yes  \n",
       "4              707.925645  Four-Door Car        Branch       No  \n",
       "...                   ...            ...           ...      ...  \n",
       "10905         1214.400000     Luxury Car           Web       No  \n",
       "10906          273.018929  Four-Door Car        Branch       No  \n",
       "10907          381.306996     Luxury SUV           Web       No  \n",
       "10908          618.288849            SUV        Branch       No  \n",
       "10909         1021.719397            SUV           Web      NaN  \n",
       "\n",
       "[10910 rows x 12 columns]"
      ]
     },
     "execution_count": 12,
     "metadata": {},
     "output_type": "execute_result"
    }
   ],
   "source": [
    "ca_df"
   ]
  },
  {
   "cell_type": "markdown",
   "id": "cbc2bc8e",
   "metadata": {},
   "source": [
    "<b> Turn open complains into integers"
   ]
  },
  {
   "cell_type": "code",
   "execution_count": 13,
   "id": "a58c67e3",
   "metadata": {},
   "outputs": [],
   "source": [
    "ca_df['number of open complaints'] = ca_df['number of open complaints'].fillna(0)"
   ]
  },
  {
   "cell_type": "code",
   "execution_count": 14,
   "id": "65257b0e",
   "metadata": {},
   "outputs": [],
   "source": [
    "ca_df['number of open complaints'] = ca_df['number of open complaints'].astype('int')"
   ]
  },
  {
   "cell_type": "code",
   "execution_count": 15,
   "id": "2d4cb43a",
   "metadata": {},
   "outputs": [
    {
     "data": {
      "text/plain": [
       "state                         object\n",
       "customer lifetime value      float64\n",
       "education                     object\n",
       "gender                        object\n",
       "income                         int64\n",
       "monthly premium auto           int64\n",
       "number of open complaints      int32\n",
       "policy type                   object\n",
       "total claim amount           float64\n",
       "vehicle class                 object\n",
       "sales channel                 object\n",
       "response                      object\n",
       "dtype: object"
      ]
     },
     "execution_count": 15,
     "metadata": {},
     "output_type": "execute_result"
    }
   ],
   "source": [
    "ca_df.dtypes"
   ]
  },
  {
   "cell_type": "markdown",
   "id": "cb0b8292",
   "metadata": {},
   "source": [
    "<b> Removing duplicates"
   ]
  },
  {
   "cell_type": "code",
   "execution_count": 16,
   "id": "ef5f911d",
   "metadata": {},
   "outputs": [
    {
     "data": {
      "text/html": [
       "<div>\n",
       "<style scoped>\n",
       "    .dataframe tbody tr th:only-of-type {\n",
       "        vertical-align: middle;\n",
       "    }\n",
       "\n",
       "    .dataframe tbody tr th {\n",
       "        vertical-align: top;\n",
       "    }\n",
       "\n",
       "    .dataframe thead th {\n",
       "        text-align: right;\n",
       "    }\n",
       "</style>\n",
       "<table border=\"1\" class=\"dataframe\">\n",
       "  <thead>\n",
       "    <tr style=\"text-align: right;\">\n",
       "      <th></th>\n",
       "      <th>state</th>\n",
       "      <th>customer lifetime value</th>\n",
       "      <th>education</th>\n",
       "      <th>gender</th>\n",
       "      <th>income</th>\n",
       "      <th>monthly premium auto</th>\n",
       "      <th>number of open complaints</th>\n",
       "      <th>policy type</th>\n",
       "      <th>total claim amount</th>\n",
       "      <th>vehicle class</th>\n",
       "      <th>sales channel</th>\n",
       "      <th>response</th>\n",
       "    </tr>\n",
       "  </thead>\n",
       "  <tbody>\n",
       "    <tr>\n",
       "      <th>0</th>\n",
       "      <td>Arizona</td>\n",
       "      <td>4809.216960</td>\n",
       "      <td>College</td>\n",
       "      <td>M</td>\n",
       "      <td>48029</td>\n",
       "      <td>61</td>\n",
       "      <td>0</td>\n",
       "      <td>Corporate Auto</td>\n",
       "      <td>292.800000</td>\n",
       "      <td>Four-Door Car</td>\n",
       "      <td>Agent</td>\n",
       "      <td>No</td>\n",
       "    </tr>\n",
       "    <tr>\n",
       "      <th>1</th>\n",
       "      <td>California</td>\n",
       "      <td>2228.525238</td>\n",
       "      <td>College</td>\n",
       "      <td>F</td>\n",
       "      <td>0</td>\n",
       "      <td>64</td>\n",
       "      <td>0</td>\n",
       "      <td>Personal Auto</td>\n",
       "      <td>744.924331</td>\n",
       "      <td>Four-Door Car</td>\n",
       "      <td>Call Center</td>\n",
       "      <td>No</td>\n",
       "    </tr>\n",
       "    <tr>\n",
       "      <th>2</th>\n",
       "      <td>Washington</td>\n",
       "      <td>14947.917300</td>\n",
       "      <td>Bachelor</td>\n",
       "      <td>M</td>\n",
       "      <td>22139</td>\n",
       "      <td>100</td>\n",
       "      <td>0</td>\n",
       "      <td>Personal Auto</td>\n",
       "      <td>480.000000</td>\n",
       "      <td>SUV</td>\n",
       "      <td>Call Center</td>\n",
       "      <td>No</td>\n",
       "    </tr>\n",
       "    <tr>\n",
       "      <th>3</th>\n",
       "      <td>Oregon</td>\n",
       "      <td>22332.439460</td>\n",
       "      <td>College</td>\n",
       "      <td>M</td>\n",
       "      <td>49078</td>\n",
       "      <td>97</td>\n",
       "      <td>0</td>\n",
       "      <td>Corporate Auto</td>\n",
       "      <td>484.013411</td>\n",
       "      <td>Four-Door Car</td>\n",
       "      <td>Branch</td>\n",
       "      <td>Yes</td>\n",
       "    </tr>\n",
       "    <tr>\n",
       "      <th>4</th>\n",
       "      <td>Oregon</td>\n",
       "      <td>9025.067525</td>\n",
       "      <td>Bachelor</td>\n",
       "      <td>F</td>\n",
       "      <td>23675</td>\n",
       "      <td>117</td>\n",
       "      <td>0</td>\n",
       "      <td>Personal Auto</td>\n",
       "      <td>707.925645</td>\n",
       "      <td>Four-Door Car</td>\n",
       "      <td>Branch</td>\n",
       "      <td>No</td>\n",
       "    </tr>\n",
       "    <tr>\n",
       "      <th>...</th>\n",
       "      <td>...</td>\n",
       "      <td>...</td>\n",
       "      <td>...</td>\n",
       "      <td>...</td>\n",
       "      <td>...</td>\n",
       "      <td>...</td>\n",
       "      <td>...</td>\n",
       "      <td>...</td>\n",
       "      <td>...</td>\n",
       "      <td>...</td>\n",
       "      <td>...</td>\n",
       "      <td>...</td>\n",
       "    </tr>\n",
       "    <tr>\n",
       "      <th>10905</th>\n",
       "      <td>Nevada</td>\n",
       "      <td>15563.369440</td>\n",
       "      <td>Bachelor</td>\n",
       "      <td>F</td>\n",
       "      <td>0</td>\n",
       "      <td>253</td>\n",
       "      <td>0</td>\n",
       "      <td>Personal Auto</td>\n",
       "      <td>1214.400000</td>\n",
       "      <td>Luxury Car</td>\n",
       "      <td>Web</td>\n",
       "      <td>No</td>\n",
       "    </tr>\n",
       "    <tr>\n",
       "      <th>10906</th>\n",
       "      <td>Oregon</td>\n",
       "      <td>5259.444853</td>\n",
       "      <td>College</td>\n",
       "      <td>F</td>\n",
       "      <td>61146</td>\n",
       "      <td>65</td>\n",
       "      <td>0</td>\n",
       "      <td>Personal Auto</td>\n",
       "      <td>273.018929</td>\n",
       "      <td>Four-Door Car</td>\n",
       "      <td>Branch</td>\n",
       "      <td>No</td>\n",
       "    </tr>\n",
       "    <tr>\n",
       "      <th>10907</th>\n",
       "      <td>Arizona</td>\n",
       "      <td>23893.304100</td>\n",
       "      <td>Bachelor</td>\n",
       "      <td>F</td>\n",
       "      <td>39837</td>\n",
       "      <td>201</td>\n",
       "      <td>0</td>\n",
       "      <td>Corporate Auto</td>\n",
       "      <td>381.306996</td>\n",
       "      <td>Luxury SUV</td>\n",
       "      <td>Web</td>\n",
       "      <td>No</td>\n",
       "    </tr>\n",
       "    <tr>\n",
       "      <th>10908</th>\n",
       "      <td>California</td>\n",
       "      <td>11971.977650</td>\n",
       "      <td>College</td>\n",
       "      <td>F</td>\n",
       "      <td>64195</td>\n",
       "      <td>158</td>\n",
       "      <td>4</td>\n",
       "      <td>Personal Auto</td>\n",
       "      <td>618.288849</td>\n",
       "      <td>SUV</td>\n",
       "      <td>Branch</td>\n",
       "      <td>No</td>\n",
       "    </tr>\n",
       "    <tr>\n",
       "      <th>10909</th>\n",
       "      <td>NaN</td>\n",
       "      <td>6857.519928</td>\n",
       "      <td>Bachelor</td>\n",
       "      <td>M</td>\n",
       "      <td>0</td>\n",
       "      <td>101</td>\n",
       "      <td>0</td>\n",
       "      <td>Personal Auto</td>\n",
       "      <td>1021.719397</td>\n",
       "      <td>SUV</td>\n",
       "      <td>Web</td>\n",
       "      <td>NaN</td>\n",
       "    </tr>\n",
       "  </tbody>\n",
       "</table>\n",
       "<p>10011 rows × 12 columns</p>\n",
       "</div>"
      ],
      "text/plain": [
       "            state  customer lifetime value education gender  income  \\\n",
       "0         Arizona              4809.216960   College      M   48029   \n",
       "1      California              2228.525238   College      F       0   \n",
       "2      Washington             14947.917300  Bachelor      M   22139   \n",
       "3          Oregon             22332.439460   College      M   49078   \n",
       "4          Oregon              9025.067525  Bachelor      F   23675   \n",
       "...           ...                      ...       ...    ...     ...   \n",
       "10905      Nevada             15563.369440  Bachelor      F       0   \n",
       "10906      Oregon              5259.444853   College      F   61146   \n",
       "10907     Arizona             23893.304100  Bachelor      F   39837   \n",
       "10908  California             11971.977650   College      F   64195   \n",
       "10909         NaN              6857.519928  Bachelor      M       0   \n",
       "\n",
       "       monthly premium auto  number of open complaints     policy type  \\\n",
       "0                        61                          0  Corporate Auto   \n",
       "1                        64                          0   Personal Auto   \n",
       "2                       100                          0   Personal Auto   \n",
       "3                        97                          0  Corporate Auto   \n",
       "4                       117                          0   Personal Auto   \n",
       "...                     ...                        ...             ...   \n",
       "10905                   253                          0   Personal Auto   \n",
       "10906                    65                          0   Personal Auto   \n",
       "10907                   201                          0  Corporate Auto   \n",
       "10908                   158                          4   Personal Auto   \n",
       "10909                   101                          0   Personal Auto   \n",
       "\n",
       "       total claim amount  vehicle class sales channel response  \n",
       "0              292.800000  Four-Door Car         Agent       No  \n",
       "1              744.924331  Four-Door Car   Call Center       No  \n",
       "2              480.000000            SUV   Call Center       No  \n",
       "3              484.013411  Four-Door Car        Branch      Yes  \n",
       "4              707.925645  Four-Door Car        Branch       No  \n",
       "...                   ...            ...           ...      ...  \n",
       "10905         1214.400000     Luxury Car           Web       No  \n",
       "10906          273.018929  Four-Door Car        Branch       No  \n",
       "10907          381.306996     Luxury SUV           Web       No  \n",
       "10908          618.288849            SUV        Branch       No  \n",
       "10909         1021.719397            SUV           Web      NaN  \n",
       "\n",
       "[10011 rows x 12 columns]"
      ]
     },
     "execution_count": 16,
     "metadata": {},
     "output_type": "execute_result"
    }
   ],
   "source": [
    "ca_df.drop_duplicates()"
   ]
  },
  {
   "cell_type": "code",
   "execution_count": 17,
   "id": "90305a6f",
   "metadata": {},
   "outputs": [
    {
     "data": {
      "text/html": [
       "<div>\n",
       "<style scoped>\n",
       "    .dataframe tbody tr th:only-of-type {\n",
       "        vertical-align: middle;\n",
       "    }\n",
       "\n",
       "    .dataframe tbody tr th {\n",
       "        vertical-align: top;\n",
       "    }\n",
       "\n",
       "    .dataframe thead th {\n",
       "        text-align: right;\n",
       "    }\n",
       "</style>\n",
       "<table border=\"1\" class=\"dataframe\">\n",
       "  <thead>\n",
       "    <tr style=\"text-align: right;\">\n",
       "      <th></th>\n",
       "      <th>state</th>\n",
       "      <th>customer lifetime value</th>\n",
       "      <th>education</th>\n",
       "      <th>gender</th>\n",
       "      <th>income</th>\n",
       "      <th>monthly premium auto</th>\n",
       "      <th>number of open complaints</th>\n",
       "      <th>policy type</th>\n",
       "      <th>total claim amount</th>\n",
       "      <th>vehicle class</th>\n",
       "      <th>sales channel</th>\n",
       "      <th>response</th>\n",
       "    </tr>\n",
       "  </thead>\n",
       "  <tbody>\n",
       "    <tr>\n",
       "      <th>0</th>\n",
       "      <td>Arizona</td>\n",
       "      <td>4809.216960</td>\n",
       "      <td>College</td>\n",
       "      <td>M</td>\n",
       "      <td>48029</td>\n",
       "      <td>61</td>\n",
       "      <td>0</td>\n",
       "      <td>Corporate Auto</td>\n",
       "      <td>292.800000</td>\n",
       "      <td>Four-Door Car</td>\n",
       "      <td>Agent</td>\n",
       "      <td>No</td>\n",
       "    </tr>\n",
       "    <tr>\n",
       "      <th>1</th>\n",
       "      <td>California</td>\n",
       "      <td>2228.525238</td>\n",
       "      <td>College</td>\n",
       "      <td>F</td>\n",
       "      <td>0</td>\n",
       "      <td>64</td>\n",
       "      <td>0</td>\n",
       "      <td>Personal Auto</td>\n",
       "      <td>744.924331</td>\n",
       "      <td>Four-Door Car</td>\n",
       "      <td>Call Center</td>\n",
       "      <td>No</td>\n",
       "    </tr>\n",
       "    <tr>\n",
       "      <th>2</th>\n",
       "      <td>Washington</td>\n",
       "      <td>14947.917300</td>\n",
       "      <td>Bachelor</td>\n",
       "      <td>M</td>\n",
       "      <td>22139</td>\n",
       "      <td>100</td>\n",
       "      <td>0</td>\n",
       "      <td>Personal Auto</td>\n",
       "      <td>480.000000</td>\n",
       "      <td>SUV</td>\n",
       "      <td>Call Center</td>\n",
       "      <td>No</td>\n",
       "    </tr>\n",
       "    <tr>\n",
       "      <th>3</th>\n",
       "      <td>Oregon</td>\n",
       "      <td>22332.439460</td>\n",
       "      <td>College</td>\n",
       "      <td>M</td>\n",
       "      <td>49078</td>\n",
       "      <td>97</td>\n",
       "      <td>0</td>\n",
       "      <td>Corporate Auto</td>\n",
       "      <td>484.013411</td>\n",
       "      <td>Four-Door Car</td>\n",
       "      <td>Branch</td>\n",
       "      <td>Yes</td>\n",
       "    </tr>\n",
       "    <tr>\n",
       "      <th>4</th>\n",
       "      <td>Oregon</td>\n",
       "      <td>9025.067525</td>\n",
       "      <td>Bachelor</td>\n",
       "      <td>F</td>\n",
       "      <td>23675</td>\n",
       "      <td>117</td>\n",
       "      <td>0</td>\n",
       "      <td>Personal Auto</td>\n",
       "      <td>707.925645</td>\n",
       "      <td>Four-Door Car</td>\n",
       "      <td>Branch</td>\n",
       "      <td>No</td>\n",
       "    </tr>\n",
       "    <tr>\n",
       "      <th>...</th>\n",
       "      <td>...</td>\n",
       "      <td>...</td>\n",
       "      <td>...</td>\n",
       "      <td>...</td>\n",
       "      <td>...</td>\n",
       "      <td>...</td>\n",
       "      <td>...</td>\n",
       "      <td>...</td>\n",
       "      <td>...</td>\n",
       "      <td>...</td>\n",
       "      <td>...</td>\n",
       "      <td>...</td>\n",
       "    </tr>\n",
       "    <tr>\n",
       "      <th>10905</th>\n",
       "      <td>Nevada</td>\n",
       "      <td>15563.369440</td>\n",
       "      <td>Bachelor</td>\n",
       "      <td>F</td>\n",
       "      <td>0</td>\n",
       "      <td>253</td>\n",
       "      <td>0</td>\n",
       "      <td>Personal Auto</td>\n",
       "      <td>1214.400000</td>\n",
       "      <td>Luxury Car</td>\n",
       "      <td>Web</td>\n",
       "      <td>No</td>\n",
       "    </tr>\n",
       "    <tr>\n",
       "      <th>10906</th>\n",
       "      <td>Oregon</td>\n",
       "      <td>5259.444853</td>\n",
       "      <td>College</td>\n",
       "      <td>F</td>\n",
       "      <td>61146</td>\n",
       "      <td>65</td>\n",
       "      <td>0</td>\n",
       "      <td>Personal Auto</td>\n",
       "      <td>273.018929</td>\n",
       "      <td>Four-Door Car</td>\n",
       "      <td>Branch</td>\n",
       "      <td>No</td>\n",
       "    </tr>\n",
       "    <tr>\n",
       "      <th>10907</th>\n",
       "      <td>Arizona</td>\n",
       "      <td>23893.304100</td>\n",
       "      <td>Bachelor</td>\n",
       "      <td>F</td>\n",
       "      <td>39837</td>\n",
       "      <td>201</td>\n",
       "      <td>0</td>\n",
       "      <td>Corporate Auto</td>\n",
       "      <td>381.306996</td>\n",
       "      <td>Luxury SUV</td>\n",
       "      <td>Web</td>\n",
       "      <td>No</td>\n",
       "    </tr>\n",
       "    <tr>\n",
       "      <th>10908</th>\n",
       "      <td>California</td>\n",
       "      <td>11971.977650</td>\n",
       "      <td>College</td>\n",
       "      <td>F</td>\n",
       "      <td>64195</td>\n",
       "      <td>158</td>\n",
       "      <td>4</td>\n",
       "      <td>Personal Auto</td>\n",
       "      <td>618.288849</td>\n",
       "      <td>SUV</td>\n",
       "      <td>Branch</td>\n",
       "      <td>No</td>\n",
       "    </tr>\n",
       "    <tr>\n",
       "      <th>10909</th>\n",
       "      <td>NaN</td>\n",
       "      <td>6857.519928</td>\n",
       "      <td>Bachelor</td>\n",
       "      <td>M</td>\n",
       "      <td>0</td>\n",
       "      <td>101</td>\n",
       "      <td>0</td>\n",
       "      <td>Personal Auto</td>\n",
       "      <td>1021.719397</td>\n",
       "      <td>SUV</td>\n",
       "      <td>Web</td>\n",
       "      <td>NaN</td>\n",
       "    </tr>\n",
       "  </tbody>\n",
       "</table>\n",
       "<p>10910 rows × 12 columns</p>\n",
       "</div>"
      ],
      "text/plain": [
       "            state  customer lifetime value education gender  income  \\\n",
       "0         Arizona              4809.216960   College      M   48029   \n",
       "1      California              2228.525238   College      F       0   \n",
       "2      Washington             14947.917300  Bachelor      M   22139   \n",
       "3          Oregon             22332.439460   College      M   49078   \n",
       "4          Oregon              9025.067525  Bachelor      F   23675   \n",
       "...           ...                      ...       ...    ...     ...   \n",
       "10905      Nevada             15563.369440  Bachelor      F       0   \n",
       "10906      Oregon              5259.444853   College      F   61146   \n",
       "10907     Arizona             23893.304100  Bachelor      F   39837   \n",
       "10908  California             11971.977650   College      F   64195   \n",
       "10909         NaN              6857.519928  Bachelor      M       0   \n",
       "\n",
       "       monthly premium auto  number of open complaints     policy type  \\\n",
       "0                        61                          0  Corporate Auto   \n",
       "1                        64                          0   Personal Auto   \n",
       "2                       100                          0   Personal Auto   \n",
       "3                        97                          0  Corporate Auto   \n",
       "4                       117                          0   Personal Auto   \n",
       "...                     ...                        ...             ...   \n",
       "10905                   253                          0   Personal Auto   \n",
       "10906                    65                          0   Personal Auto   \n",
       "10907                   201                          0  Corporate Auto   \n",
       "10908                   158                          4   Personal Auto   \n",
       "10909                   101                          0   Personal Auto   \n",
       "\n",
       "       total claim amount  vehicle class sales channel response  \n",
       "0              292.800000  Four-Door Car         Agent       No  \n",
       "1              744.924331  Four-Door Car   Call Center       No  \n",
       "2              480.000000            SUV   Call Center       No  \n",
       "3              484.013411  Four-Door Car        Branch      Yes  \n",
       "4              707.925645  Four-Door Car        Branch       No  \n",
       "...                   ...            ...           ...      ...  \n",
       "10905         1214.400000     Luxury Car           Web       No  \n",
       "10906          273.018929  Four-Door Car        Branch       No  \n",
       "10907          381.306996     Luxury SUV           Web       No  \n",
       "10908          618.288849            SUV        Branch       No  \n",
       "10909         1021.719397            SUV           Web      NaN  \n",
       "\n",
       "[10910 rows x 12 columns]"
      ]
     },
     "execution_count": 17,
     "metadata": {},
     "output_type": "execute_result"
    }
   ],
   "source": [
    "ca_df"
   ]
  },
  {
   "cell_type": "markdown",
   "id": "39fd7b96",
   "metadata": {},
   "source": [
    "<b> Replacing null values – Replace missing values with means of the column (for numerical columns)\n"
   ]
  },
  {
   "cell_type": "code",
   "execution_count": 18,
   "id": "2c5508db",
   "metadata": {},
   "outputs": [
    {
     "data": {
      "text/html": [
       "<div>\n",
       "<style scoped>\n",
       "    .dataframe tbody tr th:only-of-type {\n",
       "        vertical-align: middle;\n",
       "    }\n",
       "\n",
       "    .dataframe tbody tr th {\n",
       "        vertical-align: top;\n",
       "    }\n",
       "\n",
       "    .dataframe thead th {\n",
       "        text-align: right;\n",
       "    }\n",
       "</style>\n",
       "<table border=\"1\" class=\"dataframe\">\n",
       "  <thead>\n",
       "    <tr style=\"text-align: right;\">\n",
       "      <th></th>\n",
       "      <th>customer lifetime value</th>\n",
       "      <th>income</th>\n",
       "      <th>monthly premium auto</th>\n",
       "      <th>number of open complaints</th>\n",
       "      <th>total claim amount</th>\n",
       "    </tr>\n",
       "  </thead>\n",
       "  <tbody>\n",
       "    <tr>\n",
       "      <th>0</th>\n",
       "      <td>4809.216960</td>\n",
       "      <td>48029</td>\n",
       "      <td>61</td>\n",
       "      <td>0</td>\n",
       "      <td>292.800000</td>\n",
       "    </tr>\n",
       "    <tr>\n",
       "      <th>1</th>\n",
       "      <td>2228.525238</td>\n",
       "      <td>0</td>\n",
       "      <td>64</td>\n",
       "      <td>0</td>\n",
       "      <td>744.924331</td>\n",
       "    </tr>\n",
       "    <tr>\n",
       "      <th>2</th>\n",
       "      <td>14947.917300</td>\n",
       "      <td>22139</td>\n",
       "      <td>100</td>\n",
       "      <td>0</td>\n",
       "      <td>480.000000</td>\n",
       "    </tr>\n",
       "    <tr>\n",
       "      <th>3</th>\n",
       "      <td>22332.439460</td>\n",
       "      <td>49078</td>\n",
       "      <td>97</td>\n",
       "      <td>0</td>\n",
       "      <td>484.013411</td>\n",
       "    </tr>\n",
       "    <tr>\n",
       "      <th>4</th>\n",
       "      <td>9025.067525</td>\n",
       "      <td>23675</td>\n",
       "      <td>117</td>\n",
       "      <td>0</td>\n",
       "      <td>707.925645</td>\n",
       "    </tr>\n",
       "    <tr>\n",
       "      <th>...</th>\n",
       "      <td>...</td>\n",
       "      <td>...</td>\n",
       "      <td>...</td>\n",
       "      <td>...</td>\n",
       "      <td>...</td>\n",
       "    </tr>\n",
       "    <tr>\n",
       "      <th>10905</th>\n",
       "      <td>15563.369440</td>\n",
       "      <td>0</td>\n",
       "      <td>253</td>\n",
       "      <td>0</td>\n",
       "      <td>1214.400000</td>\n",
       "    </tr>\n",
       "    <tr>\n",
       "      <th>10906</th>\n",
       "      <td>5259.444853</td>\n",
       "      <td>61146</td>\n",
       "      <td>65</td>\n",
       "      <td>0</td>\n",
       "      <td>273.018929</td>\n",
       "    </tr>\n",
       "    <tr>\n",
       "      <th>10907</th>\n",
       "      <td>23893.304100</td>\n",
       "      <td>39837</td>\n",
       "      <td>201</td>\n",
       "      <td>0</td>\n",
       "      <td>381.306996</td>\n",
       "    </tr>\n",
       "    <tr>\n",
       "      <th>10908</th>\n",
       "      <td>11971.977650</td>\n",
       "      <td>64195</td>\n",
       "      <td>158</td>\n",
       "      <td>4</td>\n",
       "      <td>618.288849</td>\n",
       "    </tr>\n",
       "    <tr>\n",
       "      <th>10909</th>\n",
       "      <td>6857.519928</td>\n",
       "      <td>0</td>\n",
       "      <td>101</td>\n",
       "      <td>0</td>\n",
       "      <td>1021.719397</td>\n",
       "    </tr>\n",
       "  </tbody>\n",
       "</table>\n",
       "<p>10910 rows × 5 columns</p>\n",
       "</div>"
      ],
      "text/plain": [
       "       customer lifetime value  income  monthly premium auto  \\\n",
       "0                  4809.216960   48029                    61   \n",
       "1                  2228.525238       0                    64   \n",
       "2                 14947.917300   22139                   100   \n",
       "3                 22332.439460   49078                    97   \n",
       "4                  9025.067525   23675                   117   \n",
       "...                        ...     ...                   ...   \n",
       "10905             15563.369440       0                   253   \n",
       "10906              5259.444853   61146                    65   \n",
       "10907             23893.304100   39837                   201   \n",
       "10908             11971.977650   64195                   158   \n",
       "10909              6857.519928       0                   101   \n",
       "\n",
       "       number of open complaints  total claim amount  \n",
       "0                              0          292.800000  \n",
       "1                              0          744.924331  \n",
       "2                              0          480.000000  \n",
       "3                              0          484.013411  \n",
       "4                              0          707.925645  \n",
       "...                          ...                 ...  \n",
       "10905                          0         1214.400000  \n",
       "10906                          0          273.018929  \n",
       "10907                          0          381.306996  \n",
       "10908                          4          618.288849  \n",
       "10909                          0         1021.719397  \n",
       "\n",
       "[10910 rows x 5 columns]"
      ]
     },
     "execution_count": 18,
     "metadata": {},
     "output_type": "execute_result"
    }
   ],
   "source": [
    "ca_df._get_numeric_data() #checking the columns with numeric input"
   ]
  },
  {
   "cell_type": "code",
   "execution_count": 19,
   "id": "ba63ab3a",
   "metadata": {
    "scrolled": true
   },
   "outputs": [
    {
     "data": {
      "text/html": [
       "<div>\n",
       "<style scoped>\n",
       "    .dataframe tbody tr th:only-of-type {\n",
       "        vertical-align: middle;\n",
       "    }\n",
       "\n",
       "    .dataframe tbody tr th {\n",
       "        vertical-align: top;\n",
       "    }\n",
       "\n",
       "    .dataframe thead th {\n",
       "        text-align: right;\n",
       "    }\n",
       "</style>\n",
       "<table border=\"1\" class=\"dataframe\">\n",
       "  <thead>\n",
       "    <tr style=\"text-align: right;\">\n",
       "      <th></th>\n",
       "      <th>state</th>\n",
       "      <th>customer lifetime value</th>\n",
       "      <th>education</th>\n",
       "      <th>gender</th>\n",
       "      <th>income</th>\n",
       "      <th>monthly premium auto</th>\n",
       "      <th>number of open complaints</th>\n",
       "      <th>policy type</th>\n",
       "      <th>total claim amount</th>\n",
       "      <th>vehicle class</th>\n",
       "      <th>sales channel</th>\n",
       "      <th>response</th>\n",
       "    </tr>\n",
       "  </thead>\n",
       "  <tbody>\n",
       "  </tbody>\n",
       "</table>\n",
       "</div>"
      ],
      "text/plain": [
       "Empty DataFrame\n",
       "Columns: [state, customer lifetime value, education, gender, income, monthly premium auto, number of open complaints, policy type, total claim amount, vehicle class, sales channel, response]\n",
       "Index: []"
      ]
     },
     "execution_count": 19,
     "metadata": {},
     "output_type": "execute_result"
    }
   ],
   "source": [
    "ca_df[ca_df['monthly premium auto'].isna()==True] # checking rows that are null based on a specific column\n"
   ]
  },
  {
   "cell_type": "code",
   "execution_count": 20,
   "id": "ba867d0b",
   "metadata": {
    "scrolled": true
   },
   "outputs": [
    {
     "data": {
      "text/html": [
       "<div>\n",
       "<style scoped>\n",
       "    .dataframe tbody tr th:only-of-type {\n",
       "        vertical-align: middle;\n",
       "    }\n",
       "\n",
       "    .dataframe tbody tr th {\n",
       "        vertical-align: top;\n",
       "    }\n",
       "\n",
       "    .dataframe thead th {\n",
       "        text-align: right;\n",
       "    }\n",
       "</style>\n",
       "<table border=\"1\" class=\"dataframe\">\n",
       "  <thead>\n",
       "    <tr style=\"text-align: right;\">\n",
       "      <th></th>\n",
       "      <th>state</th>\n",
       "      <th>customer lifetime value</th>\n",
       "      <th>education</th>\n",
       "      <th>gender</th>\n",
       "      <th>income</th>\n",
       "      <th>monthly premium auto</th>\n",
       "      <th>number of open complaints</th>\n",
       "      <th>policy type</th>\n",
       "      <th>total claim amount</th>\n",
       "      <th>vehicle class</th>\n",
       "      <th>sales channel</th>\n",
       "      <th>response</th>\n",
       "    </tr>\n",
       "  </thead>\n",
       "  <tbody>\n",
       "  </tbody>\n",
       "</table>\n",
       "</div>"
      ],
      "text/plain": [
       "Empty DataFrame\n",
       "Columns: [state, customer lifetime value, education, gender, income, monthly premium auto, number of open complaints, policy type, total claim amount, vehicle class, sales channel, response]\n",
       "Index: []"
      ]
     },
     "execution_count": 20,
     "metadata": {},
     "output_type": "execute_result"
    }
   ],
   "source": [
    "ca_df[ca_df['total claim amount'].isna()==True] "
   ]
  },
  {
   "cell_type": "code",
   "execution_count": 21,
   "id": "051ade1d",
   "metadata": {},
   "outputs": [
    {
     "data": {
      "text/html": [
       "<div>\n",
       "<style scoped>\n",
       "    .dataframe tbody tr th:only-of-type {\n",
       "        vertical-align: middle;\n",
       "    }\n",
       "\n",
       "    .dataframe tbody tr th {\n",
       "        vertical-align: top;\n",
       "    }\n",
       "\n",
       "    .dataframe thead th {\n",
       "        text-align: right;\n",
       "    }\n",
       "</style>\n",
       "<table border=\"1\" class=\"dataframe\">\n",
       "  <thead>\n",
       "    <tr style=\"text-align: right;\">\n",
       "      <th></th>\n",
       "      <th>state</th>\n",
       "      <th>customer lifetime value</th>\n",
       "      <th>education</th>\n",
       "      <th>gender</th>\n",
       "      <th>income</th>\n",
       "      <th>monthly premium auto</th>\n",
       "      <th>number of open complaints</th>\n",
       "      <th>policy type</th>\n",
       "      <th>total claim amount</th>\n",
       "      <th>vehicle class</th>\n",
       "      <th>sales channel</th>\n",
       "      <th>response</th>\n",
       "    </tr>\n",
       "  </thead>\n",
       "  <tbody>\n",
       "  </tbody>\n",
       "</table>\n",
       "</div>"
      ],
      "text/plain": [
       "Empty DataFrame\n",
       "Columns: [state, customer lifetime value, education, gender, income, monthly premium auto, number of open complaints, policy type, total claim amount, vehicle class, sales channel, response]\n",
       "Index: []"
      ]
     },
     "execution_count": 21,
     "metadata": {},
     "output_type": "execute_result"
    }
   ],
   "source": [
    "ca_df[ca_df['income'].isna()==True] "
   ]
  },
  {
   "cell_type": "code",
   "execution_count": 22,
   "id": "19268ca8",
   "metadata": {},
   "outputs": [
    {
     "data": {
      "text/html": [
       "<div>\n",
       "<style scoped>\n",
       "    .dataframe tbody tr th:only-of-type {\n",
       "        vertical-align: middle;\n",
       "    }\n",
       "\n",
       "    .dataframe tbody tr th {\n",
       "        vertical-align: top;\n",
       "    }\n",
       "\n",
       "    .dataframe thead th {\n",
       "        text-align: right;\n",
       "    }\n",
       "</style>\n",
       "<table border=\"1\" class=\"dataframe\">\n",
       "  <thead>\n",
       "    <tr style=\"text-align: right;\">\n",
       "      <th></th>\n",
       "      <th>state</th>\n",
       "      <th>customer lifetime value</th>\n",
       "      <th>education</th>\n",
       "      <th>gender</th>\n",
       "      <th>income</th>\n",
       "      <th>monthly premium auto</th>\n",
       "      <th>number of open complaints</th>\n",
       "      <th>policy type</th>\n",
       "      <th>total claim amount</th>\n",
       "      <th>vehicle class</th>\n",
       "      <th>sales channel</th>\n",
       "      <th>response</th>\n",
       "    </tr>\n",
       "  </thead>\n",
       "  <tbody>\n",
       "    <tr>\n",
       "      <th>5</th>\n",
       "      <td>NaN</td>\n",
       "      <td>4745.181764</td>\n",
       "      <td>High School or Below</td>\n",
       "      <td>M</td>\n",
       "      <td>50549</td>\n",
       "      <td>61</td>\n",
       "      <td>0</td>\n",
       "      <td>Personal Auto</td>\n",
       "      <td>292.800000</td>\n",
       "      <td>Four-Door Car</td>\n",
       "      <td>Agent</td>\n",
       "      <td>NaN</td>\n",
       "    </tr>\n",
       "    <tr>\n",
       "      <th>11</th>\n",
       "      <td>NaN</td>\n",
       "      <td>2420.711888</td>\n",
       "      <td>Bachelor</td>\n",
       "      <td>M</td>\n",
       "      <td>31710</td>\n",
       "      <td>62</td>\n",
       "      <td>0</td>\n",
       "      <td>Corporate Auto</td>\n",
       "      <td>199.551735</td>\n",
       "      <td>Two-Door Car</td>\n",
       "      <td>Call Center</td>\n",
       "      <td>NaN</td>\n",
       "    </tr>\n",
       "    <tr>\n",
       "      <th>58</th>\n",
       "      <td>NaN</td>\n",
       "      <td>14019.833140</td>\n",
       "      <td>College</td>\n",
       "      <td>M</td>\n",
       "      <td>31739</td>\n",
       "      <td>71</td>\n",
       "      <td>0</td>\n",
       "      <td>Personal Auto</td>\n",
       "      <td>469.882367</td>\n",
       "      <td>Two-Door Car</td>\n",
       "      <td>Call Center</td>\n",
       "      <td>NaN</td>\n",
       "    </tr>\n",
       "    <tr>\n",
       "      <th>62</th>\n",
       "      <td>NaN</td>\n",
       "      <td>2108.493744</td>\n",
       "      <td>Bachelor</td>\n",
       "      <td>M</td>\n",
       "      <td>0</td>\n",
       "      <td>61</td>\n",
       "      <td>0</td>\n",
       "      <td>Personal Auto</td>\n",
       "      <td>351.856810</td>\n",
       "      <td>Two-Door Car</td>\n",
       "      <td>Agent</td>\n",
       "      <td>NaN</td>\n",
       "    </tr>\n",
       "    <tr>\n",
       "      <th>87</th>\n",
       "      <td>Oregon</td>\n",
       "      <td>8126.766397</td>\n",
       "      <td>College</td>\n",
       "      <td>F</td>\n",
       "      <td>14616</td>\n",
       "      <td>107</td>\n",
       "      <td>0</td>\n",
       "      <td>Personal Auto</td>\n",
       "      <td>513.600000</td>\n",
       "      <td>NaN</td>\n",
       "      <td>Agent</td>\n",
       "      <td>No</td>\n",
       "    </tr>\n",
       "    <tr>\n",
       "      <th>...</th>\n",
       "      <td>...</td>\n",
       "      <td>...</td>\n",
       "      <td>...</td>\n",
       "      <td>...</td>\n",
       "      <td>...</td>\n",
       "      <td>...</td>\n",
       "      <td>...</td>\n",
       "      <td>...</td>\n",
       "      <td>...</td>\n",
       "      <td>...</td>\n",
       "      <td>...</td>\n",
       "      <td>...</td>\n",
       "    </tr>\n",
       "    <tr>\n",
       "      <th>10879</th>\n",
       "      <td>California</td>\n",
       "      <td>18611.453560</td>\n",
       "      <td>Master</td>\n",
       "      <td>F</td>\n",
       "      <td>49673</td>\n",
       "      <td>232</td>\n",
       "      <td>0</td>\n",
       "      <td>Personal Auto</td>\n",
       "      <td>1021.654003</td>\n",
       "      <td>NaN</td>\n",
       "      <td>Web</td>\n",
       "      <td>No</td>\n",
       "    </tr>\n",
       "    <tr>\n",
       "      <th>10883</th>\n",
       "      <td>Oregon</td>\n",
       "      <td>22563.618380</td>\n",
       "      <td>High School or Below</td>\n",
       "      <td>M</td>\n",
       "      <td>23046</td>\n",
       "      <td>65</td>\n",
       "      <td>3</td>\n",
       "      <td>Personal Auto</td>\n",
       "      <td>1.687291</td>\n",
       "      <td>NaN</td>\n",
       "      <td>Branch</td>\n",
       "      <td>No</td>\n",
       "    </tr>\n",
       "    <tr>\n",
       "      <th>10890</th>\n",
       "      <td>Oregon</td>\n",
       "      <td>4660.399573</td>\n",
       "      <td>Bachelor</td>\n",
       "      <td>F</td>\n",
       "      <td>89834</td>\n",
       "      <td>116</td>\n",
       "      <td>0</td>\n",
       "      <td>Corporate Auto</td>\n",
       "      <td>43.155950</td>\n",
       "      <td>NaN</td>\n",
       "      <td>Branch</td>\n",
       "      <td>No</td>\n",
       "    </tr>\n",
       "    <tr>\n",
       "      <th>10894</th>\n",
       "      <td>NaN</td>\n",
       "      <td>6314.492009</td>\n",
       "      <td>Master</td>\n",
       "      <td>F</td>\n",
       "      <td>66947</td>\n",
       "      <td>78</td>\n",
       "      <td>0</td>\n",
       "      <td>Personal Auto</td>\n",
       "      <td>374.400000</td>\n",
       "      <td>Four-Door Car</td>\n",
       "      <td>Agent</td>\n",
       "      <td>NaN</td>\n",
       "    </tr>\n",
       "    <tr>\n",
       "      <th>10909</th>\n",
       "      <td>NaN</td>\n",
       "      <td>6857.519928</td>\n",
       "      <td>Bachelor</td>\n",
       "      <td>M</td>\n",
       "      <td>0</td>\n",
       "      <td>101</td>\n",
       "      <td>0</td>\n",
       "      <td>Personal Auto</td>\n",
       "      <td>1021.719397</td>\n",
       "      <td>SUV</td>\n",
       "      <td>Web</td>\n",
       "      <td>NaN</td>\n",
       "    </tr>\n",
       "  </tbody>\n",
       "</table>\n",
       "<p>1222 rows × 12 columns</p>\n",
       "</div>"
      ],
      "text/plain": [
       "            state  customer lifetime value             education gender  \\\n",
       "5             NaN              4745.181764  High School or Below      M   \n",
       "11            NaN              2420.711888              Bachelor      M   \n",
       "58            NaN             14019.833140               College      M   \n",
       "62            NaN              2108.493744              Bachelor      M   \n",
       "87         Oregon              8126.766397               College      F   \n",
       "...           ...                      ...                   ...    ...   \n",
       "10879  California             18611.453560                Master      F   \n",
       "10883      Oregon             22563.618380  High School or Below      M   \n",
       "10890      Oregon              4660.399573              Bachelor      F   \n",
       "10894         NaN              6314.492009                Master      F   \n",
       "10909         NaN              6857.519928              Bachelor      M   \n",
       "\n",
       "       income  monthly premium auto  number of open complaints  \\\n",
       "5       50549                    61                          0   \n",
       "11      31710                    62                          0   \n",
       "58      31739                    71                          0   \n",
       "62          0                    61                          0   \n",
       "87      14616                   107                          0   \n",
       "...       ...                   ...                        ...   \n",
       "10879   49673                   232                          0   \n",
       "10883   23046                    65                          3   \n",
       "10890   89834                   116                          0   \n",
       "10894   66947                    78                          0   \n",
       "10909       0                   101                          0   \n",
       "\n",
       "          policy type  total claim amount  vehicle class sales channel  \\\n",
       "5       Personal Auto          292.800000  Four-Door Car         Agent   \n",
       "11     Corporate Auto          199.551735   Two-Door Car   Call Center   \n",
       "58      Personal Auto          469.882367   Two-Door Car   Call Center   \n",
       "62      Personal Auto          351.856810   Two-Door Car         Agent   \n",
       "87      Personal Auto          513.600000            NaN         Agent   \n",
       "...               ...                 ...            ...           ...   \n",
       "10879   Personal Auto         1021.654003            NaN           Web   \n",
       "10883   Personal Auto            1.687291            NaN        Branch   \n",
       "10890  Corporate Auto           43.155950            NaN        Branch   \n",
       "10894   Personal Auto          374.400000  Four-Door Car         Agent   \n",
       "10909   Personal Auto         1021.719397            SUV           Web   \n",
       "\n",
       "      response  \n",
       "5          NaN  \n",
       "11         NaN  \n",
       "58         NaN  \n",
       "62         NaN  \n",
       "87          No  \n",
       "...        ...  \n",
       "10879       No  \n",
       "10883       No  \n",
       "10890       No  \n",
       "10894      NaN  \n",
       "10909      NaN  \n",
       "\n",
       "[1222 rows x 12 columns]"
      ]
     },
     "execution_count": 22,
     "metadata": {},
     "output_type": "execute_result"
    }
   ],
   "source": [
    "ca_df.loc[ca_df.isnull().any(axis=1)] #check for missing values"
   ]
  },
  {
   "cell_type": "markdown",
   "id": "236cfebf",
   "metadata": {},
   "source": [
    "- <b> Activity 4 </b>\n",
    "    - Show a plot of the total number of responses.\n",
    "    - Show a plot of the response rate by the sales channel.\n",
    "    - Show a plot of the response rate by the total claim amount.\n",
    "    - Show a plot of the response rate by income.\n",
    "    - Don't limit your creativity! plot any interesting findings/insights that describe some interesting facts about your data set and its variables.\n",
    "    - Plot the Correlation Heatmap."
   ]
  },
  {
   "cell_type": "code",
   "execution_count": 23,
   "id": "4e141bd2",
   "metadata": {},
   "outputs": [
    {
     "name": "stdout",
     "output_type": "stream",
     "text": [
      "<class 'pandas.core.frame.DataFrame'>\n",
      "RangeIndex: 10910 entries, 0 to 10909\n",
      "Data columns (total 12 columns):\n",
      " #   Column                     Non-Null Count  Dtype  \n",
      "---  ------                     --------------  -----  \n",
      " 0   state                      10279 non-null  object \n",
      " 1   customer lifetime value    10910 non-null  float64\n",
      " 2   education                  10910 non-null  object \n",
      " 3   gender                     10910 non-null  object \n",
      " 4   income                     10910 non-null  int64  \n",
      " 5   monthly premium auto       10910 non-null  int64  \n",
      " 6   number of open complaints  10910 non-null  int32  \n",
      " 7   policy type                10910 non-null  object \n",
      " 8   total claim amount         10910 non-null  float64\n",
      " 9   vehicle class              10288 non-null  object \n",
      " 10  sales channel              10910 non-null  object \n",
      " 11  response                   10279 non-null  object \n",
      "dtypes: float64(2), int32(1), int64(2), object(7)\n",
      "memory usage: 980.3+ KB\n"
     ]
    }
   ],
   "source": [
    "ca_df.info()"
   ]
  },
  {
   "cell_type": "code",
   "execution_count": 24,
   "id": "2977446a",
   "metadata": {},
   "outputs": [
    {
     "data": {
      "text/html": [
       "<div>\n",
       "<style scoped>\n",
       "    .dataframe tbody tr th:only-of-type {\n",
       "        vertical-align: middle;\n",
       "    }\n",
       "\n",
       "    .dataframe tbody tr th {\n",
       "        vertical-align: top;\n",
       "    }\n",
       "\n",
       "    .dataframe thead th {\n",
       "        text-align: right;\n",
       "    }\n",
       "</style>\n",
       "<table border=\"1\" class=\"dataframe\">\n",
       "  <thead>\n",
       "    <tr style=\"text-align: right;\">\n",
       "      <th></th>\n",
       "      <th>customer lifetime value</th>\n",
       "      <th>income</th>\n",
       "      <th>monthly premium auto</th>\n",
       "      <th>number of open complaints</th>\n",
       "      <th>total claim amount</th>\n",
       "    </tr>\n",
       "  </thead>\n",
       "  <tbody>\n",
       "    <tr>\n",
       "      <th>count</th>\n",
       "      <td>10910.000000</td>\n",
       "      <td>10910.000000</td>\n",
       "      <td>10910.000000</td>\n",
       "      <td>10910.000000</td>\n",
       "      <td>10910.000000</td>\n",
       "    </tr>\n",
       "    <tr>\n",
       "      <th>mean</th>\n",
       "      <td>8018.241094</td>\n",
       "      <td>37536.284785</td>\n",
       "      <td>93.196059</td>\n",
       "      <td>0.361962</td>\n",
       "      <td>434.888330</td>\n",
       "    </tr>\n",
       "    <tr>\n",
       "      <th>std</th>\n",
       "      <td>6885.081434</td>\n",
       "      <td>30359.195670</td>\n",
       "      <td>34.442532</td>\n",
       "      <td>0.890134</td>\n",
       "      <td>292.180556</td>\n",
       "    </tr>\n",
       "    <tr>\n",
       "      <th>min</th>\n",
       "      <td>1898.007675</td>\n",
       "      <td>0.000000</td>\n",
       "      <td>61.000000</td>\n",
       "      <td>0.000000</td>\n",
       "      <td>0.099007</td>\n",
       "    </tr>\n",
       "    <tr>\n",
       "      <th>25%</th>\n",
       "      <td>4014.453113</td>\n",
       "      <td>0.000000</td>\n",
       "      <td>68.000000</td>\n",
       "      <td>0.000000</td>\n",
       "      <td>271.082527</td>\n",
       "    </tr>\n",
       "    <tr>\n",
       "      <th>50%</th>\n",
       "      <td>5771.147235</td>\n",
       "      <td>33813.500000</td>\n",
       "      <td>83.000000</td>\n",
       "      <td>0.000000</td>\n",
       "      <td>382.564630</td>\n",
       "    </tr>\n",
       "    <tr>\n",
       "      <th>75%</th>\n",
       "      <td>8992.779137</td>\n",
       "      <td>62250.750000</td>\n",
       "      <td>109.000000</td>\n",
       "      <td>0.000000</td>\n",
       "      <td>547.200000</td>\n",
       "    </tr>\n",
       "    <tr>\n",
       "      <th>max</th>\n",
       "      <td>83325.381190</td>\n",
       "      <td>99981.000000</td>\n",
       "      <td>298.000000</td>\n",
       "      <td>5.000000</td>\n",
       "      <td>2893.239678</td>\n",
       "    </tr>\n",
       "  </tbody>\n",
       "</table>\n",
       "</div>"
      ],
      "text/plain": [
       "       customer lifetime value        income  monthly premium auto  \\\n",
       "count             10910.000000  10910.000000          10910.000000   \n",
       "mean               8018.241094  37536.284785             93.196059   \n",
       "std                6885.081434  30359.195670             34.442532   \n",
       "min                1898.007675      0.000000             61.000000   \n",
       "25%                4014.453113      0.000000             68.000000   \n",
       "50%                5771.147235  33813.500000             83.000000   \n",
       "75%                8992.779137  62250.750000            109.000000   \n",
       "max               83325.381190  99981.000000            298.000000   \n",
       "\n",
       "       number of open complaints  total claim amount  \n",
       "count               10910.000000        10910.000000  \n",
       "mean                    0.361962          434.888330  \n",
       "std                     0.890134          292.180556  \n",
       "min                     0.000000            0.099007  \n",
       "25%                     0.000000          271.082527  \n",
       "50%                     0.000000          382.564630  \n",
       "75%                     0.000000          547.200000  \n",
       "max                     5.000000         2893.239678  "
      ]
     },
     "execution_count": 24,
     "metadata": {},
     "output_type": "execute_result"
    }
   ],
   "source": [
    "ca_df.describe()"
   ]
  },
  {
   "cell_type": "code",
   "execution_count": 25,
   "id": "edef135a",
   "metadata": {},
   "outputs": [
    {
     "data": {
      "text/plain": [
       "No     8813\n",
       "Yes    1466\n",
       "Name: response, dtype: int64"
      ]
     },
     "execution_count": 25,
     "metadata": {},
     "output_type": "execute_result"
    }
   ],
   "source": [
    "#Total number of responses broken down by response kind\n",
    "ca_df.response.value_counts()"
   ]
  },
  {
   "cell_type": "code",
   "execution_count": 26,
   "id": "aa549cce",
   "metadata": {},
   "outputs": [
    {
     "data": {
      "text/plain": [
       "<AxesSubplot:>"
      ]
     },
     "execution_count": 26,
     "metadata": {},
     "output_type": "execute_result"
    },
    {
     "data": {
      "image/png": "[encoded data removed]",
      "text/plain": [
       "<Figure size 432x288 with 1 Axes>"
      ]
     },
     "metadata": {
      "needs_background": "light"
     },
     "output_type": "display_data"
    }
   ],
   "source": [
    "#Show a plot of the total number of responses.\n",
    "ca_df['response'].value_counts().plot(kind=\"bar\") "
   ]
  },
  {
   "cell_type": "code",
   "execution_count": 27,
   "id": "ce5d766e",
   "metadata": {},
   "outputs": [
    {
     "data": {
      "text/plain": [
       "<AxesSubplot:>"
      ]
     },
     "execution_count": 27,
     "metadata": {},
     "output_type": "execute_result"
    },
    {
     "data": {
      "image/png": "[encoded data removed]",
      "text/plain": [
       "<Figure size 432x288 with 1 Axes>"
      ]
     },
     "metadata": {
      "needs_background": "light"
     },
     "output_type": "display_data"
    }
   ],
   "source": [
    " #Show a plot of the response rate by the sales channel.\n",
    "ca_df['sales channel'].value_counts().plot(kind=\"bar\")"
   ]
  },
  {
   "cell_type": "code",
   "execution_count": 28,
   "id": "a5f2b7bf",
   "metadata": {},
   "outputs": [
    {
     "data": {
      "image/png": "[encoded data removed]",
      "text/plain": [
       "<Figure size 432x288 with 1 Axes>"
      ]
     },
     "metadata": {
      "needs_background": "light"
     },
     "output_type": "display_data"
    }
   ],
   "source": [
    "#Show a plot of the distribution of the total claim amount, broken down by response kind. \n",
    "sns.boxplot(y='total claim amount', x='response', data=ca_df, palette=\"colorblind\");"
   ]
  },
  {
   "cell_type": "code",
   "execution_count": 29,
   "id": "d076602f",
   "metadata": {
    "scrolled": false
   },
   "outputs": [
    {
     "data": {
      "image/png": "[encoded data removed]",
      "text/plain": [
       "<Figure size 413.25x360 with 1 Axes>"
      ]
     },
     "metadata": {
      "needs_background": "light"
     },
     "output_type": "display_data"
    }
   ],
   "source": [
    "#Total claim and response, another look\n",
    "sns.displot(ca_df, x=\"total claim amount\", hue=\"response\");"
   ]
  },
  {
   "cell_type": "code",
   "execution_count": 30,
   "id": "f7541061",
   "metadata": {},
   "outputs": [
    {
     "data": {
      "image/png": "[encoded data removed]",
      "text/plain": [
       "<Figure size 432x288 with 1 Axes>"
      ]
     },
     "metadata": {
      "needs_background": "light"
     },
     "output_type": "display_data"
    }
   ],
   "source": [
    "#Show a plot of the response rate by income.\n",
    "sns.boxplot(y='income', x='response', data=ca_df, palette=\"colorblind\");\n"
   ]
  },
  {
   "cell_type": "code",
   "execution_count": 31,
   "id": "65cfaea1",
   "metadata": {},
   "outputs": [
    {
     "data": {
      "image/png": "[encoded data removed]",
      "text/plain": [
       "<Figure size 413.25x360 with 1 Axes>"
      ]
     },
     "metadata": {
      "needs_background": "light"
     },
     "output_type": "display_data"
    }
   ],
   "source": [
    "sns.displot(ca_df, x=\"income\", hue=\"response\"); "
   ]
  },
  {
   "cell_type": "code",
   "execution_count": 32,
   "id": "15bfbe37",
   "metadata": {
    "scrolled": true
   },
   "outputs": [
    {
     "ename": "NameError",
     "evalue": "name 'numeric_data' is not defined",
     "output_type": "error",
     "traceback": [
      "\u001b[1;31m---------------------------------------------------------------------------\u001b[0m",
      "\u001b[1;31mNameError\u001b[0m                                 Traceback (most recent call last)",
      "\u001b[1;32m<ipython-input-32-504407ae644a>\u001b[0m in \u001b[0;36m<module>\u001b[1;34m\u001b[0m\n\u001b[0;32m      1\u001b[0m \u001b[1;31m#create a correlation matrix of numerical data\u001b[0m\u001b[1;33m\u001b[0m\u001b[1;33m\u001b[0m\u001b[1;33m\u001b[0m\u001b[0m\n\u001b[1;32m----> 2\u001b[1;33m \u001b[0mcorrelations_matrix\u001b[0m \u001b[1;33m=\u001b[0m \u001b[0mnumeric_data\u001b[0m\u001b[1;33m.\u001b[0m\u001b[0mcorr\u001b[0m\u001b[1;33m(\u001b[0m\u001b[1;33m)\u001b[0m\u001b[1;33m\u001b[0m\u001b[1;33m\u001b[0m\u001b[0m\n\u001b[0m\u001b[0;32m      3\u001b[0m \u001b[0mcorrelations_matrix\u001b[0m\u001b[1;33m\u001b[0m\u001b[1;33m\u001b[0m\u001b[0m\n",
      "\u001b[1;31mNameError\u001b[0m: name 'numeric_data' is not defined"
     ]
    }
   ],
   "source": [
    "#create a correlation matrix of numerical data\n",
    "correlations_matrix = numeric_data.corr()\n",
    "correlations_matrix\n"
   ]
  },
  {
   "cell_type": "code",
   "execution_count": 33,
   "id": "291f64dc",
   "metadata": {},
   "outputs": [
    {
     "ename": "NameError",
     "evalue": "name 'correlations_matrix' is not defined",
     "output_type": "error",
     "traceback": [
      "\u001b[1;31m---------------------------------------------------------------------------\u001b[0m",
      "\u001b[1;31mNameError\u001b[0m                                 Traceback (most recent call last)",
      "\u001b[1;32m<ipython-input-33-07595d91e9c8>\u001b[0m in \u001b[0;36m<module>\u001b[1;34m\u001b[0m\n\u001b[0;32m      1\u001b[0m \u001b[1;31m#plot the Correlation Heatmap.\u001b[0m\u001b[1;33m\u001b[0m\u001b[1;33m\u001b[0m\u001b[1;33m\u001b[0m\u001b[0m\n\u001b[1;32m----> 2\u001b[1;33m \u001b[0msns\u001b[0m\u001b[1;33m.\u001b[0m\u001b[0mheatmap\u001b[0m\u001b[1;33m(\u001b[0m\u001b[0mcorrelations_matrix\u001b[0m\u001b[1;33m,\u001b[0m \u001b[0mannot\u001b[0m\u001b[1;33m=\u001b[0m\u001b[1;32mTrue\u001b[0m\u001b[1;33m)\u001b[0m\u001b[1;33m\u001b[0m\u001b[1;33m\u001b[0m\u001b[0m\n\u001b[0m\u001b[0;32m      3\u001b[0m \u001b[0mplt\u001b[0m\u001b[1;33m.\u001b[0m\u001b[0mshow\u001b[0m\u001b[1;33m(\u001b[0m\u001b[1;33m)\u001b[0m\u001b[1;33m\u001b[0m\u001b[1;33m\u001b[0m\u001b[0m\n",
      "\u001b[1;31mNameError\u001b[0m: name 'correlations_matrix' is not defined"
     ]
    }
   ],
   "source": [
    "#plot the Correlation Heatmap. \n",
    "sns.heatmap(correlations_matrix, annot=True)\n",
    "plt.show()"
   ]
  },
  {
   "cell_type": "markdown",
   "id": "e5008226",
   "metadata": {},
   "source": [
    "- <b> Activity 5 </b>\n",
    "  - Check the data types of the columns. Get the numeric data into dataframe called numerical and categorical columns in a dataframe called categoricals. (You can use np.number and np.object to select the numerical data types and categorical data types respectively)\n",
    "  - Now we will try to check the normality of the numerical variables visually\n",
    "  - Use seaborn library to construct distribution plots for the numerical variables\n",
    "  - Use Matplotlib to construct histograms\n",
    "  - Do the distributions for different numerical variables look like a normal distribution\n",
    "  - For the numerical variables, check the multicollinearity between the features. Please note that we will use the column total_claim_amount later as the target variable.\n",
    "  - Drop one of the two features that show a high correlation between them (greater than 0.9). Write code for both the correlation matrix and for seaborn heatmap. If there is no pair of features that have a high correlation, then do not drop any features"
   ]
  },
  {
   "cell_type": "code",
   "execution_count": 34,
   "id": "4e2dcb16",
   "metadata": {},
   "outputs": [
    {
     "name": "stdout",
     "output_type": "stream",
     "text": [
      "       customer lifetime value  income  monthly premium auto  \\\n",
      "0                  4809.216960   48029                    61   \n",
      "1                  2228.525238       0                    64   \n",
      "2                 14947.917300   22139                   100   \n",
      "3                 22332.439460   49078                    97   \n",
      "4                  9025.067525   23675                   117   \n",
      "...                        ...     ...                   ...   \n",
      "10905             15563.369440       0                   253   \n",
      "10906              5259.444853   61146                    65   \n",
      "10907             23893.304100   39837                   201   \n",
      "10908             11971.977650   64195                   158   \n",
      "10909              6857.519928       0                   101   \n",
      "\n",
      "       number of open complaints  total claim amount  \n",
      "0                              0          292.800000  \n",
      "1                              0          744.924331  \n",
      "2                              0          480.000000  \n",
      "3                              0          484.013411  \n",
      "4                              0          707.925645  \n",
      "...                          ...                 ...  \n",
      "10905                          0         1214.400000  \n",
      "10906                          0          273.018929  \n",
      "10907                          0          381.306996  \n",
      "10908                          4          618.288849  \n",
      "10909                          0         1021.719397  \n",
      "\n",
      "[10910 rows x 5 columns]\n"
     ]
    }
   ],
   "source": [
    "#numerical data\n",
    "numeric_data = ca_df.select_dtypes(include=[np.number])\n",
    "print(numeric_data)"
   ]
  },
  {
   "cell_type": "code",
   "execution_count": 35,
   "id": "4ac71154",
   "metadata": {},
   "outputs": [
    {
     "name": "stdout",
     "output_type": "stream",
     "text": [
      "            state education gender     policy type  vehicle class  \\\n",
      "0         Arizona   College      M  Corporate Auto  Four-Door Car   \n",
      "1      California   College      F   Personal Auto  Four-Door Car   \n",
      "2      Washington  Bachelor      M   Personal Auto            SUV   \n",
      "3          Oregon   College      M  Corporate Auto  Four-Door Car   \n",
      "4          Oregon  Bachelor      F   Personal Auto  Four-Door Car   \n",
      "...           ...       ...    ...             ...            ...   \n",
      "10905      Nevada  Bachelor      F   Personal Auto     Luxury Car   \n",
      "10906      Oregon   College      F   Personal Auto  Four-Door Car   \n",
      "10907     Arizona  Bachelor      F  Corporate Auto     Luxury SUV   \n",
      "10908  California   College      F   Personal Auto            SUV   \n",
      "10909         NaN  Bachelor      M   Personal Auto            SUV   \n",
      "\n",
      "      sales channel response  \n",
      "0             Agent       No  \n",
      "1       Call Center       No  \n",
      "2       Call Center       No  \n",
      "3            Branch      Yes  \n",
      "4            Branch       No  \n",
      "...             ...      ...  \n",
      "10905           Web       No  \n",
      "10906        Branch       No  \n",
      "10907           Web       No  \n",
      "10908        Branch       No  \n",
      "10909           Web      NaN  \n",
      "\n",
      "[10910 rows x 7 columns]\n"
     ]
    }
   ],
   "source": [
    "#categorical data\n",
    "categorical_data = ca_df.select_dtypes(exclude=[np.number])\n",
    "print(categorical_data)"
   ]
  },
  {
   "cell_type": "code",
   "execution_count": 36,
   "id": "530ecc78",
   "metadata": {},
   "outputs": [],
   "source": [
    "#checking the distribution of numerical variables"
   ]
  },
  {
   "cell_type": "code",
   "execution_count": 37,
   "id": "3665df6f",
   "metadata": {},
   "outputs": [
    {
     "data": {
      "text/plain": [
       "<seaborn.axisgrid.FacetGrid at 0x2a96e6c2100>"
      ]
     },
     "execution_count": 37,
     "metadata": {},
     "output_type": "execute_result"
    },
    {
     "data": {
      "image/png": "[encoded data removed]",
      "text/plain": [
       "<Figure size 360x360 with 1 Axes>"
      ]
     },
     "metadata": {
      "needs_background": "light"
     },
     "output_type": "display_data"
    }
   ],
   "source": [
    "sns.displot(numeric_data['customer lifetime value'])"
   ]
  },
  {
   "cell_type": "code",
   "execution_count": 38,
   "id": "c9e01d0f",
   "metadata": {
    "scrolled": true
   },
   "outputs": [
    {
     "data": {
      "text/plain": [
       "<seaborn.axisgrid.FacetGrid at 0x2a96e68b7f0>"
      ]
     },
     "execution_count": 38,
     "metadata": {},
     "output_type": "execute_result"
    },
    {
     "data": {
      "image/png": "[encoded data removed]",
      "text/plain": [
       "<Figure size 360x360 with 1 Axes>"
      ]
     },
     "metadata": {
      "needs_background": "light"
     },
     "output_type": "display_data"
    }
   ],
   "source": [
    "sns.displot(numeric_data['monthly premium auto'])"
   ]
  },
  {
   "cell_type": "code",
   "execution_count": 39,
   "id": "8cfd9758",
   "metadata": {},
   "outputs": [
    {
     "data": {
      "text/plain": [
       "<seaborn.axisgrid.FacetGrid at 0x2a96e9e4e50>"
      ]
     },
     "execution_count": 39,
     "metadata": {},
     "output_type": "execute_result"
    },
    {
     "data": {
      "image/png": "[encoded data removed]",
      "text/plain": [
       "<Figure size 360x360 with 1 Axes>"
      ]
     },
     "metadata": {
      "needs_background": "light"
     },
     "output_type": "display_data"
    }
   ],
   "source": [
    "sns.displot(numeric_data['income'])"
   ]
  },
  {
   "cell_type": "code",
   "execution_count": 40,
   "id": "2ff7d30d",
   "metadata": {},
   "outputs": [
    {
     "data": {
      "text/plain": [
       "<seaborn.axisgrid.FacetGrid at 0x2a96fb3a160>"
      ]
     },
     "execution_count": 40,
     "metadata": {},
     "output_type": "execute_result"
    },
    {
     "data": {
      "image/png": "[encoded data removed]",
      "text/plain": [
       "<Figure size 360x360 with 1 Axes>"
      ]
     },
     "metadata": {
      "needs_background": "light"
     },
     "output_type": "display_data"
    }
   ],
   "source": [
    "sns.displot(numeric_data['customer lifetime value'])"
   ]
  },
  {
   "cell_type": "code",
   "execution_count": 41,
   "id": "491e0fab",
   "metadata": {},
   "outputs": [
    {
     "data": {
      "text/plain": [
       "<seaborn.axisgrid.FacetGrid at 0x2a96fb65730>"
      ]
     },
     "execution_count": 41,
     "metadata": {},
     "output_type": "execute_result"
    },
    {
     "data": {
      "image/png": "[encoded data removed]",
      "text/plain": [
       "<Figure size 360x360 with 1 Axes>"
      ]
     },
     "metadata": {
      "needs_background": "light"
     },
     "output_type": "display_data"
    }
   ],
   "source": [
    "sns.displot(numeric_data['total claim amount'])"
   ]
  },
  {
   "cell_type": "code",
   "execution_count": 42,
   "id": "144dcabc",
   "metadata": {},
   "outputs": [
    {
     "data": {
      "text/plain": [
       "array([[<AxesSubplot:title={'center':'customer lifetime value'}>,\n",
       "        <AxesSubplot:title={'center':'income'}>],\n",
       "       [<AxesSubplot:title={'center':'monthly premium auto'}>,\n",
       "        <AxesSubplot:title={'center':'number of open complaints'}>],\n",
       "       [<AxesSubplot:title={'center':'total claim amount'}>,\n",
       "        <AxesSubplot:>]], dtype=object)"
      ]
     },
     "execution_count": 42,
     "metadata": {},
     "output_type": "execute_result"
    },
    {
     "data": {
      "image/png": "[encoded data removed]",
      "text/plain": [
       "<Figure size 864x864 with 6 Axes>"
      ]
     },
     "metadata": {
      "needs_background": "light"
     },
     "output_type": "display_data"
    }
   ],
   "source": [
    "numeric_data.hist(figsize=(12,12))"
   ]
  },
  {
   "cell_type": "code",
   "execution_count": 43,
   "id": "e0e9380e",
   "metadata": {
    "scrolled": true
   },
   "outputs": [
    {
     "name": "stderr",
     "output_type": "stream",
     "text": [
      "C:\\Users\\Harutyunyan\\anaconda3\\lib\\site-packages\\seaborn\\distributions.py:2557: FutureWarning: `distplot` is a deprecated function and will be removed in a future version. Please adapt your code to use either `displot` (a figure-level function with similar flexibility) or `histplot` (an axes-level function for histograms).\n",
      "  warnings.warn(msg, FutureWarning)\n"
     ]
    },
    {
     "data": {
      "text/plain": [
       "<AxesSubplot:xlabel='customer lifetime value', ylabel='Density'>"
      ]
     },
     "execution_count": 43,
     "metadata": {},
     "output_type": "execute_result"
    },
    {
     "data": {
      "image/png": "[encoded data removed]",
      "text/plain": [
       "<Figure size 432x288 with 1 Axes>"
      ]
     },
     "metadata": {
      "needs_background": "light"
     },
     "output_type": "display_data"
    }
   ],
   "source": [
    " #distributions for different numerical variables look like a normal distribution\n",
    "sns.distplot(numeric_data['customer lifetime value']) #not sure about the function"
   ]
  },
  {
   "cell_type": "code",
   "execution_count": 44,
   "id": "797e97e5",
   "metadata": {},
   "outputs": [],
   "source": [
    "#Predictive modelling\n",
    "from sklearn.preprocessing import StandardScaler\n",
    "from sklearn.linear_model import LinearRegression\n",
    "from sklearn.model_selection import train_test_split\n",
    "from sklearn.metrics import r2_score\n",
    "from sklearn.metrics import mean_squared_error as mse\n",
    "from sklearn.metrics import mean_absolute_error as mae\n",
    "pd.options.display.max_rows = 50"
   ]
  },
  {
   "cell_type": "code",
   "execution_count": 45,
   "id": "7a88f687",
   "metadata": {},
   "outputs": [],
   "source": [
    "# set up y dependent variable\n",
    "Y = numeric_data['total claim amount']\n",
    "#drop that column from the rest of the columns that will feed our model to create a predictive model \n",
    "X = numeric_data.drop(['total claim amount'], axis=1)"
   ]
  },
  {
   "cell_type": "code",
   "execution_count": 46,
   "id": "72c06f9d",
   "metadata": {
    "scrolled": true
   },
   "outputs": [],
   "source": [
    "#normalize numeric features / rescaling using Normalizer\n",
    "from sklearn.preprocessing import MinMaxScaler\n",
    "scaler = MinMaxScaler()\n",
    "X_scaled= MinMaxScaler().fit_transform(X)"
   ]
  },
  {
   "cell_type": "code",
   "execution_count": 47,
   "id": "a6388360",
   "metadata": {
    "scrolled": true
   },
   "outputs": [
    {
     "data": {
      "text/plain": [
       "numpy.ndarray"
      ]
     },
     "execution_count": 47,
     "metadata": {},
     "output_type": "execute_result"
    }
   ],
   "source": [
    "type(X_scaled)"
   ]
  },
  {
   "cell_type": "code",
   "execution_count": 48,
   "id": "60fbad83",
   "metadata": {
    "scrolled": false
   },
   "outputs": [
    {
     "data": {
      "text/plain": [
       "(10910, 4)"
      ]
     },
     "execution_count": 48,
     "metadata": {},
     "output_type": "execute_result"
    }
   ],
   "source": [
    "X_scaled.shape"
   ]
  },
  {
   "cell_type": "code",
   "execution_count": 57,
   "id": "48cd6337",
   "metadata": {},
   "outputs": [],
   "source": [
    "X_train, X_test, Y_train, Y_test = train_test_split(X_scaled, Y, test_size=0.2) #train test split"
   ]
  },
  {
   "cell_type": "code",
   "execution_count": 58,
   "id": "d67547f0",
   "metadata": {},
   "outputs": [
    {
     "data": {
      "text/plain": [
       "(8728, 4)"
      ]
     },
     "execution_count": 58,
     "metadata": {},
     "output_type": "execute_result"
    }
   ],
   "source": [
    "X_train.shape"
   ]
  },
  {
   "cell_type": "code",
   "execution_count": 51,
   "id": "a45f2b47",
   "metadata": {},
   "outputs": [
    {
     "data": {
      "text/plain": [
       "(2182, 4)"
      ]
     },
     "execution_count": 51,
     "metadata": {},
     "output_type": "execute_result"
    }
   ],
   "source": [
    "X_test.shape"
   ]
  },
  {
   "cell_type": "code",
   "execution_count": 59,
   "id": "31ac6285",
   "metadata": {
    "scrolled": true
   },
   "outputs": [
    {
     "data": {
      "text/plain": [
       "(8728,)"
      ]
     },
     "execution_count": 59,
     "metadata": {},
     "output_type": "execute_result"
    }
   ],
   "source": [
    "Y_train.shape"
   ]
  },
  {
   "cell_type": "code",
   "execution_count": 61,
   "id": "a484c0dd",
   "metadata": {},
   "outputs": [
    {
     "data": {
      "text/plain": [
       "LinearRegression()"
      ]
     },
     "execution_count": 61,
     "metadata": {},
     "output_type": "execute_result"
    }
   ],
   "source": [
    "model=LinearRegression()    # model\n",
    "model.fit(X_train, Y_train)   # model train"
   ]
  },
  {
   "cell_type": "code",
   "execution_count": 62,
   "id": "8cd4abca",
   "metadata": {},
   "outputs": [
    {
     "data": {
      "text/plain": [
       "array([ -58.48905516, -336.20936825, 1259.67245612,  -15.1099187 ])"
      ]
     },
     "execution_count": 62,
     "metadata": {},
     "output_type": "execute_result"
    }
   ],
   "source": [
    "model.coef_"
   ]
  },
  {
   "cell_type": "code",
   "execution_count": 63,
   "id": "96d2bb8c",
   "metadata": {},
   "outputs": [
    {
     "data": {
      "text/plain": [
       "393.89475908430745"
      ]
     },
     "execution_count": 63,
     "metadata": {},
     "output_type": "execute_result"
    }
   ],
   "source": [
    "model.intercept_"
   ]
  },
  {
   "cell_type": "code",
   "execution_count": 64,
   "id": "b5508456",
   "metadata": {},
   "outputs": [],
   "source": [
    "y_pred=model.predict(X_test)"
   ]
  },
  {
   "cell_type": "code",
   "execution_count": 76,
   "id": "78a403bb",
   "metadata": {
    "scrolled": true
   },
   "outputs": [
    {
     "data": {
      "text/plain": [
       "array([287.17764988, 880.34010889, 684.52404584, ..., 276.75348843,\n",
       "       488.95712111, 218.58099723])"
      ]
     },
     "execution_count": 76,
     "metadata": {},
     "output_type": "execute_result"
    }
   ],
   "source": [
    "y_pred"
   ]
  },
  {
   "cell_type": "code",
   "execution_count": 77,
   "id": "93537d2e",
   "metadata": {},
   "outputs": [],
   "source": [
    "result=pd.DataFrame({\"Y_test\":Y_test,\"y_pred\":y_pred})"
   ]
  },
  {
   "cell_type": "code",
   "execution_count": 68,
   "id": "a65c265e",
   "metadata": {
    "scrolled": true
   },
   "outputs": [
    {
     "data": {
      "text/plain": [
       "Text(0.5, 1.0, 'Test Set Residual histogram')"
      ]
     },
     "execution_count": 68,
     "metadata": {},
     "output_type": "execute_result"
    },
    {
     "data": {
      "image/png": "[encoded data removed]",
      "text/plain": [
       "<Figure size 720x360 with 2 Axes>"
      ]
     },
     "metadata": {
      "needs_background": "light"
     },
     "output_type": "display_data"
    }
   ],
   "source": [
    "fix, ax = plt.subplots(1,2, figsize = (10,5))\n",
    "ax[0].plot(y_pred,Y_test, 'o')\n",
    "ax[0].set_xlabel('y_pred')\n",
    "ax[0].set_ylabel('Y_test')\n",
    "ax[0].set_title('y_pred vs Y_test')\n",
    "\n",
    "# Plot the residuals\n",
    "ax[1].hist(Y_test - y_pred)\n",
    "ax[1].set_xlabel(\"Test y-y_pred\")\n",
    "ax[1].set_title(\"Test Set Residual histogram\")"
   ]
  },
  {
   "cell_type": "code",
   "execution_count": 69,
   "id": "7d9f0483",
   "metadata": {},
   "outputs": [
    {
     "data": {
      "text/plain": [
       "0.5092629675537022"
      ]
     },
     "execution_count": 69,
     "metadata": {},
     "output_type": "execute_result"
    }
   ],
   "source": [
    "# Model score R²\n",
    "model.score(X_test,Y_test)"
   ]
  },
  {
   "cell_type": "markdown",
   "id": "6b2baefc",
   "metadata": {},
   "source": [
    "## Model using statsmodels¶\n"
   ]
  },
  {
   "cell_type": "code",
   "execution_count": 75,
   "id": "35eccd39",
   "metadata": {},
   "outputs": [
    {
     "name": "stdout",
     "output_type": "stream",
     "text": [
      "                            OLS Regression Results                            \n",
      "==============================================================================\n",
      "Dep. Variable:     total claim amount   R-squared:                       0.523\n",
      "Model:                            OLS   Adj. R-squared:                  0.523\n",
      "Method:                 Least Squares   F-statistic:                     2393.\n",
      "Date:                Tue, 09 Nov 2021   Prob (F-statistic):               0.00\n",
      "Time:                        23:23:39   Log-Likelihood:                -58628.\n",
      "No. Observations:                8728   AIC:                         1.173e+05\n",
      "Df Residuals:                    8723   BIC:                         1.173e+05\n",
      "Df Model:                           4                                         \n",
      "Covariance Type:            nonrobust                                         \n",
      "==============================================================================\n",
      "                 coef    std err          t      P>|t|      [0.025      0.975]\n",
      "------------------------------------------------------------------------------\n",
      "const        393.8948      4.204     93.702      0.000     385.655     402.135\n",
      "x1           -58.4891     28.116     -2.080      0.038    -113.603      -3.375\n",
      "x2          -336.2094      7.068    -47.567      0.000    -350.065    -322.354\n",
      "x3          1259.6725     16.040     78.532      0.000    1228.230    1291.115\n",
      "x4           -15.1099     11.984     -1.261      0.207     -38.601       8.381\n",
      "==============================================================================\n",
      "Omnibus:                      769.873   Durbin-Watson:                   2.010\n",
      "Prob(Omnibus):                  0.000   Jarque-Bera (JB):             4272.990\n",
      "Skew:                           0.228   Prob(JB):                         0.00\n",
      "Kurtosis:                       6.397   Cond. No.                         14.8\n",
      "==============================================================================\n",
      "\n",
      "Notes:\n",
      "[1] Standard Errors assume that the covariance matrix of the errors is correctly specified.\n"
     ]
    }
   ],
   "source": [
    "X_train_stat = sm.add_constant(X_train) # add a constant\n",
    "model_stat = sm.OLS(Y_train, X_train_stat).fit()\n",
    "predictions_stat = model_stat.predict(X_train_stat) \n",
    "print_model_stat = model_stat.summary()\n",
    "print(print_model_stat)"
   ]
  },
  {
   "cell_type": "code",
   "execution_count": 79,
   "id": "4722db9e",
   "metadata": {},
   "outputs": [
    {
     "data": {
      "text/plain": [
       "<AxesSubplot:xlabel='y_pred', ylabel='Y_test'>"
      ]
     },
     "execution_count": 79,
     "metadata": {},
     "output_type": "execute_result"
    },
    {
     "data": {
      "image/png": "[encoded data removed]",
      "text/plain": [
       "<Figure size 432x288 with 1 Axes>"
      ]
     },
     "metadata": {
      "needs_background": "light"
     },
     "output_type": "display_data"
    }
   ],
   "source": [
    "sns.regplot(x='y_pred',y='Y_test', data=result, scatter_kws={\"color\": \"blue\"}, line_kws={\"color\": \"red\"})\n"
   ]
  },
  {
   "cell_type": "markdown",
   "id": "3a69ccbc",
   "metadata": {},
   "source": [
    "## Model Validation"
   ]
  },
  {
   "cell_type": "code",
   "execution_count": 82,
   "id": "961853a8",
   "metadata": {},
   "outputs": [],
   "source": [
    "# ME: mean error\n",
    "ME = np.mean( Y_test - y_pred )\n",
    "\n",
    "# MAE: mean absolute error\n",
    "MAE = np.mean( np.abs(  Y_test - y_pred ) )"
   ]
  },
  {
   "cell_type": "code",
   "execution_count": 85,
   "id": "d77435b2",
   "metadata": {},
   "outputs": [
    {
     "data": {
      "text/plain": [
       "44761.09214478351"
      ]
     },
     "execution_count": 85,
     "metadata": {},
     "output_type": "execute_result"
    }
   ],
   "source": [
    "# MSE: mean squared error\n",
    "MSE = np.mean( np.power(  Y_test - y_pred , 2 ) )\n",
    "MSE"
   ]
  },
  {
   "cell_type": "code",
   "execution_count": 86,
   "id": "65241a88",
   "metadata": {},
   "outputs": [
    {
     "data": {
      "text/plain": [
       "211.56817375206393"
      ]
     },
     "execution_count": 86,
     "metadata": {},
     "output_type": "execute_result"
    }
   ],
   "source": [
    "# RMSE: root mean squared error\n",
    "RMSE = np.sqrt(MSE)\n",
    "RMSE"
   ]
  },
  {
   "cell_type": "code",
   "execution_count": 87,
   "id": "6cbcc4d0",
   "metadata": {},
   "outputs": [
    {
     "data": {
      "text/plain": [
       "2.299515993219827"
      ]
     },
     "execution_count": 87,
     "metadata": {},
     "output_type": "execute_result"
    }
   ],
   "source": [
    "# MAPE: mean absolute percentual error\n",
    "MAPE = np.mean( np.abs(  Y_test - y_pred) / Y_test )\n",
    "MAPE"
   ]
  },
  {
   "cell_type": "code",
   "execution_count": 88,
   "id": "b3111593",
   "metadata": {},
   "outputs": [
    {
     "data": {
      "text/plain": [
       "0.5092629675537022"
      ]
     },
     "execution_count": 88,
     "metadata": {},
     "output_type": "execute_result"
    }
   ],
   "source": [
    "# Model score R²\n",
    "model.score(X_test,Y_test)"
   ]
  },
  {
   "cell_type": "code",
   "execution_count": null,
   "id": "d242ab0a",
   "metadata": {},
   "outputs": [],
   "source": []
  }
 ],
 "metadata": {
  "kernelspec": {
   "display_name": "Python 3",
   "language": "python",
   "name": "python3"
  },
  "language_info": {
   "codemirror_mode": {
    "name": "ipython",
    "version": 3
   },
   "file_extension": ".py",
   "mimetype": "text/x-python",
   "name": "python",
   "nbconvert_exporter": "python",
   "pygments_lexer": "ipython3",
   "version": "3.8.8"
  }
 },
 "nbformat": 4,
 "nbformat_minor": 5
}
