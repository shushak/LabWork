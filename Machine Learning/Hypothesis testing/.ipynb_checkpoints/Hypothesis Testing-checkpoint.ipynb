{
 "cells": [
  {
   "cell_type": "markdown",
   "id": "0762ea1d",
   "metadata": {},
   "source": [
    "# Lab | Hypothesis Testing\n",
    "\n",
    "\n",
    "### Instructions\n",
    "\n",
    "1. It is assumed that the mean systolic blood pressure is `μ = 120 mm Hg`. In the Honolulu Heart Study, a sample of `n = 100` people had an average systolic blood pressure of 130.1 mm Hg with a standard deviation of 21.21 mm Hg. Is the group significantly different (with respect to systolic blood pressure!) from the regular population?\n",
    "\n",
    "   - Set up the hypothesis test.\n",
    "   - Write down all the steps followed for setting up the test.\n",
    "   - Calculate the test statistic by hand and also code it in Python. It should be 4.76190. What decision can you make based on this calculated value?\n",
    "\n",
    "2. In a packing plant, a machine packs cartons with jars. It is supposed that a new machine will pack faster on the average than the machine currently used. To test that hypothesis, the times it takes each machine to pack ten cartons are recorded. The results, in seconds, are shown in the tables in the file `Data/machine.txt`. Assume that there is sufficient evidence to conduct the t test, does the data provide sufficient evidence to show if one machine is better than the other\n"
   ]
  },
  {
   "cell_type": "code",
   "execution_count": 1,
   "id": "c94d8d95",
   "metadata": {},
   "outputs": [],
   "source": [
    "import numpy as np \n",
    "from scipy import stats"
   ]
  },
  {
   "cell_type": "code",
   "execution_count": 2,
   "id": "f721aca3",
   "metadata": {},
   "outputs": [],
   "source": [
    "def z_value(x_bar,mu,sig,n):\n",
    "    return ((x_bar-mu)*(n**0.5))/(sig)"
   ]
  },
  {
   "cell_type": "code",
   "execution_count": 3,
   "id": "8c34e2aa",
   "metadata": {},
   "outputs": [],
   "source": [
    "mu = 120 # in mm Hg\n",
    "n = 100\n",
    "x_bar= 130.1\n",
    "sig= 21.21"
   ]
  },
  {
   "cell_type": "code",
   "execution_count": 4,
   "id": "caa3dec9",
   "metadata": {},
   "outputs": [],
   "source": [
    "# Define the null hypothesis. \n",
    "# It is defined by H0 and in this case H0: μ =120"
   ]
  },
  {
   "cell_type": "code",
   "execution_count": 9,
   "id": "54f11e9f",
   "metadata": {},
   "outputs": [],
   "source": [
    "#Step2: Define the alternative hypothesis.\n",
    "# in this case meaning Ha: μ !=120"
   ]
  },
  {
   "cell_type": "code",
   "execution_count": 10,
   "id": "f2787f5f",
   "metadata": {},
   "outputs": [
    {
     "name": "stdout",
     "output_type": "stream",
     "text": [
      "4.761904761904759\n"
     ]
    }
   ],
   "source": [
    "#Step3: Calculating the z value based on the input parameters \n",
    "t= z_value(x_bar,mu,sig,n)\n",
    "print(t)"
   ]
  },
  {
   "cell_type": "code",
   "execution_count": 7,
   "id": "043f9f40",
   "metadata": {},
   "outputs": [
    {
     "name": "stdout",
     "output_type": "stream",
     "text": [
      "1.9842169515086827\n"
     ]
    }
   ],
   "source": [
    "#Step4: Calculating the critical value of the normal distribution with an area of 0.95? -> zc = 1.96\n",
    "t_citical = stats.t.ppf(0.975,df=99)\n",
    "print(tc)"
   ]
  },
  {
   "cell_type": "code",
   "execution_count": 8,
   "id": "a7b71915",
   "metadata": {},
   "outputs": [],
   "source": [
    "# In this case, t_critical < t\n",
    "#Therefore, we reject the null hypothesis is rejected true, that is μ =120"
   ]
  }
 ],
 "metadata": {
  "kernelspec": {
   "display_name": "Python 3",
   "language": "python",
   "name": "python3"
  },
  "language_info": {
   "codemirror_mode": {
    "name": "ipython",
    "version": 3
   },
   "file_extension": ".py",
   "mimetype": "text/x-python",
   "name": "python",
   "nbconvert_exporter": "python",
   "pygments_lexer": "ipython3",
   "version": "3.8.8"
  }
 },
 "nbformat": 4,
 "nbformat_minor": 5
}
